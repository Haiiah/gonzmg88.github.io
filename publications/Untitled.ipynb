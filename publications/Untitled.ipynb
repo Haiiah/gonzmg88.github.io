{
 "cells": [
  {
   "cell_type": "code",
   "execution_count": 1,
   "metadata": {},
   "outputs": [
    {
     "data": {
      "text/html": [
       "<a href='https://www.spiedigitallibrary.org/journals/Journal-of-Applied-Remote-Sensing/volume-11/issue-1/015005/Cloud-masking-and-removal-in-remote-sensing-image-time-series/10.1117/1.JRS.11.015005.short'>[Gómez-Chova et al. 2017]</a>:</br><a href='http://ipl.uv.es/raqrs/'>[Mateo-García et al. 2017]</a>:</br><a href='http://arxiv.org/abs/1710.05578'>[Pérez-Suay et al. 2017]</a>:</br>"
      ],
      "text/plain": [
       "<IPython.core.display.HTML object>"
      ]
     },
     "execution_count": 1,
     "metadata": {},
     "output_type": "execute_result"
    }
   ],
   "source": [
    "from IPython.display import HTML,display\n",
    "from pybtex.database.input import bibtex\n",
    "parser = bibtex.Parser()\n",
    "bib_data = parser.parse_file('pubs.bib')\n",
    "\n",
    "def make_cita(bibentry):\n",
    "    text_latex = bibentry.rich_fields.get('author')\n",
    "    persons_print =[person.split(\",\")[0] for person in str(text_latex).split(\"and \")]\n",
    "    #print(persons_print,len(persons_print))\n",
    "    if len(persons_print)==1:\n",
    "        cita = persons_print[0]\n",
    "    elif len(persons_print)==2:\n",
    "        cita = \" and \".join(persons_print) \n",
    "    else:\n",
    "        cita = persons_print[0]+\" et al.\"\n",
    "\n",
    "    cita+=\" \"+ str(bibentry.rich_fields.get('year'))\n",
    "    return cita\n",
    "\n",
    "string = \"\"\n",
    "for bibentry_key in sorted(bib_data.entries.keys(),key=lambda x: bib_data.entries[x].fields[\"year\"]):\n",
    "    bibentry = bib_data.entries[bibentry_key]\n",
    "    # bibentry.rich_fields.get('title')\n",
    "    #print(make_cita(bibentry),\"--->\",nombres[bibentry_key])\n",
    "    if \"url\" in bibentry.fields:\n",
    "        string+=\"<a href='%s'>[%s]</a>:</br>\"%(bibentry.fields[\"url\"],make_cita(bibentry))\n",
    "\n",
    "HTML(string)"
   ]
  },
  {
   "cell_type": "code",
   "execution_count": 2,
   "metadata": {},
   "outputs": [
    {
     "name": "stdout",
     "output_type": "stream",
     "text": [
      "Cloud masking and removal in remote sensing image time series\n",
      "Advances in statistical cloud screening: the Proba-V case study\n",
      "Fair Kernel Learning\n",
      "Cloud detection on the Google Earth Engine platform\n",
      "Convolutional Neural Networks for Multispectral Image Cloud Masking\n",
      "Cloud detection machine learning algorithms for PROBA-V\n",
      "Proba-V cloud detection Round Robin: Validation results and recommendations\n"
     ]
    }
   ],
   "source": [
    "from datetime import datetime\n",
    "for bibentry_key in sorted(bib_data.entries.keys(),key=lambda x: bib_data.entries[x].fields[\"year\"]):\n",
    "    bibentry = bib_data.entries[bibentry_key]\n",
    "    print(bibentry.rich_fields.get('title'))\n",
    "    #print(bibentry.rich_fields.get('author'))\n",
    "    #print(bibentry.fields.keys())\n",
    "    "
   ]
  },
  {
   "cell_type": "code",
   "execution_count": null,
   "metadata": {
    "collapsed": true
   },
   "outputs": [],
   "source": []
  },
  {
   "cell_type": "code",
   "execution_count": 3,
   "metadata": {
    "collapsed": true
   },
   "outputs": [],
   "source": [
    "import bibtexparser\n",
    "\n",
    "with open('pubs.bib') as bibtex_file:\n",
    "    bib_database = bibtexparser.load(bibtex_file)\n"
   ]
  },
  {
   "cell_type": "code",
   "execution_count": null,
   "metadata": {
    "collapsed": true
   },
   "outputs": [],
   "source": []
  },
  {
   "cell_type": "code",
   "execution_count": 4,
   "metadata": {},
   "outputs": [
    {
     "data": {
      "text/plain": [
       "{'gomez-chova_cloud_2017': {'abstract': 'Automatic cloud masking of Earth observation images is one of the first required steps in optical remote sensing data processing since the operational use and product generation from satellite image time series might be hampered by undetected clouds. The high temporal revisit of current and forthcoming missions and the scarcity of labeled data force us to cast cloud screening as an unsupervised change detection problem in the temporal domain. We introduce a cloud screening method based on detecting abrupt changes along the time dimension. The main assumption is that image time series follow smooth variations over land (background) and abrupt changes will be mainly due to the presence of clouds. The method estimates the background surface changes using the information in the time series. In particular, we propose linear and nonlinear least squares regression algorithms that minimize both the prediction and the estimation error simultaneously. Then, significant differences in the image of interest with respect to the estimated background are identified as clouds. The use of kernel methods allows the generalization of the algorithm to account for higher-order (nonlinear) feature relations. After the proposed cloud masking and cloud removal, cloud-free time series at high spatial resolution can be used to obtain a better monitoring of land cover dynamics and to generate more elaborated products. The method is tested in a dataset with 5-day revisit time series from SPOT-4 at high resolution and with Landsat-8 time series. Experimental results show that the proposed method yields more accurate cloud masks when confronted with state-of-the-art approaches typically used in operational settings. In addition, the algorithm has been implemented in the Google Earth Engine platform, which allows us to access the full Landsat-8 catalog and work in a parallel distributed platform to extend its applicability to a global planetary scale.',\n",
       "  'authors': 'Luis Gómez-Chova, Julia Amorós-López, <u>Gonzalo Mateo-García</u>, Jordi Muñoz-Marí and Gustau Camps-Valls',\n",
       "  'bibtex': '@article{gomez-chova_cloud_2017,\\n author = {Gómez-Chova, Luis and Amorós-López, Julia and Mateo-García, Gonzalo and Muñoz-Marí, Jordi and Camps-Valls, Gustau},\\n copyright = {All rights reserved},\\n doi = {10.1117/1.JRS.11.015005},\\n file = {Snapshot:/home/gonzalo/Zotero/storage/E95K3UNT/1.JRS.11.015005.html:text/html},\\n issn = {1931-3195, 1931-3195},\\n journal = {Journal of Applied Remote Sensing},\\n link = {https://www.spiedigitallibrary.org/journals/Journal-of-Applied-Remote-Sensing/volume-11/issue-1/015005/Cloud-masking-and-removal-in-remote-sensing-image-time-series/10.1117/1.JRS.11.015005.short},\\n month = {jan},\\n number = {1},\\n pages = {015005},\\n title = {Cloud masking and removal in remote sensing image time series},\\n urldate = {2017-10-09},\\n volume = {11},\\n year = {2017}\\n}\\n\\n',\n",
       "  'date': datetime.datetime(2017, 1, 1, 0, 0)},\n",
       " 'gomez-chova_cloud_2017-1': {'abstract': 'This paper presents the development and implementation of a cloud detection algorithm for Proba-V.\\nAccurate and automatic detection of clouds in satellite scenes is a key issue for a wide range of remote sensing applications. With no accurate cloud masking, undetected clouds are one of the most significant sources of error in both sea and land cover biophysical parameter retrieval.\\nThe objective of the algorithms presented in this paper is to detect clouds accurately providing a cloud flag per pixel. For this purpose, the method exploits the information of Proba-V using statistical machine learning techniques to identify the clouds present in Proba-V products.\\nThe effectiveness of the proposed method is successfully illustrated using a large number of real Proba-V images.',\n",
       "  'authors': 'Luis Gómez-Chova, <u>Gonzalo Mateo-García</u>, Jordi Muñoz-Marí and Gustau Camps-Valls',\n",
       "  'bibtex': '@inproceedings{gomez-chova_cloud_2017-1,\\n author = {Gómez-Chova, Luis and Mateo-García, Gonzalo and Muñoz-Marí, Jordi and Camps-Valls, Gustau},\\n booktitle = {2017 {IEEE} {International} {Geoscience} and {Remote} {Sensing} {Symposium} ({IGARSS})},\\n copyright = {All rights reserved},\\n keyword = {AD 2011 10 28, ADL, Aerosol EDR, Aerosol Environmental Data Record Algorithm, aerosols, Aerosols, Algorithm Development Library, artificial satellites, Cloud Mask algorithms, geophysical equipment, Joint Polar Satellite System satellite, JPSS, JPSS VIIRS aerosol EDR algorithms, NOAA Interface Data Processing Segment, Ocean temperature, radiometers, Radiometry, Satellite broadcasting, Satellites, scanning radiometer, Sea surface, Sensors, upstream-downstream effects, VIIRS, VIIRS Sensor Data Record, Visible Infrared Imaging Radiometer Suite},\\n month = {jul},\\n title = {Cloud detection machine learning algorithms for {PROBA}-{V}},\\n year = {2017}\\n}\\n\\n',\n",
       "  'date': datetime.datetime(2017, 7, 1, 0, 0)},\n",
       " 'iannone_proba-v_2017': {'abstract': 'This paper discusses results from 12 months of a Round Robin exercise aimed at the inter-comparison of different cloud detection algorithms for Proba-V.\\nClouds detection is a critical issue for satellite optical remote sensing, since potential errors in cloud masking directly translates into significant uncertainty in the retrieved downstream geophysical products. Cloud detection is particularly challenging for Proba-V due to the presence of a limited number of spectral bands and the lack of thermal infrared bands. The main objective of the project was the inter-comparison of several cloud detection algorithms for Proba-V over a wide range of surface types and environmental conditions. Proba-V Level 2a products have been distributed to six different algorithm providers representing companies and research institutes in several European countries. The considered cloud detection approaches are based on different strategies: Neural Network, Discriminant Analysis, Multi-spectral and Multi-textural Thresholding, Self-Organizing Feature Maps, Dynamic Thresholding, and physically-based retrieval of Cloud Optical Thickness. The results from all algorithms were analysed and compared against a reference dataset, consisting of a large number (more than fifty thousands) of visually classified pixels.\\nThe quality assessment was performed according to a uniform methodology and the results provide clear indication on the potential best-suited approach for next Proba-V cloud detection algorithm.',\n",
       "  'authors': 'R.Q. Iannone, F. Niro, P. Goryl, S. Dransfeld, B. Hoersch, K. Stelzer, G. Kirches, M. Paperin, C. Brockmann, Luis Gómez-Chova, <u>Gonzalo Mateo-García</u>, R. Preusker, J. Fischer, U. Amato, C. Serio, U. Gangkofner, B. Berthelot, M.D. Iordache, L. Bertels, E. Wolters, W. Dierckx, I. Benhadj and E. Swinnen',\n",
       "  'bibtex': '@inproceedings{iannone_proba-v_2017,\\n author = {Iannone, R. Q. and Niro, F. and Goryl, P. and Dransfeld, S. and Hoersch, B. and Stelzer, K. and Kirches, G. and Paperin, M. and Brockmann, C. and Gómez-Chova, Luis and Mateo-García, Gonzalo and Preusker, R. and Fischer, J. and Amato, U. and Serio, C. and Gangkofner, U. and Berthelot, B. and Iordache, M. D. and Bertels, L. and Wolters, E. and Dierckx, W. and Benhadj, I. and Swinnen, E.},\\n booktitle = {2017 9th {International} {Workshop} on the {Analysis} of {Multitemporal} {Remote} {Sensing} {Images} ({MultiTemp})},\\n copyright = {All rights reserved},\\n doi = {10.1109/Multi-Temp.2017.8035219},\\n file = {IEEE Xplore Abstract Record:/home/gonzalo/Zotero/storage/IW2E4ZDI/8035219.html:text/html;IEEE Xplore Full Text PDF:/home/gonzalo/Zotero/storage/2FPWRMPW/Iannone et al. - 2017 - Proba-V cloud detection Round Robin Validation re.pdf:application/pdf},\\n keyword = {Clouds, remote sensing, Satellites, atmospheric techniques, Cloud Detection Algorithm, cloud detection approaches, cloud masking, cloud optical thickness, clouds, Detection algorithms, discriminant analysis, downstream geophysical products, environmental conditions, European countries, Land surface, MODIS, multispectral thresholding, multitextural thresholding, neural network, Proba-V, Proba-V cloud detection algorithm, Proba-V cloud detection Round Robin, Proba-V level 2a products, Reflectivity, Round robin, Round Robin, satellite optical remote sensing, self-organizing feature maps, spectral bands, surface types, thermal infrared bands},\\n month = {jun},\\n pages = {1--8},\\n shorttitle = {Proba-{V} cloud detection {Round} {Robin}},\\n title = {Proba-{V} cloud detection {Round} {Robin}: {Validation} results and recommendations},\\n year = {2017}\\n}\\n\\n',\n",
       "  'date': datetime.datetime(2017, 6, 1, 0, 0)},\n",
       " 'mateo-garcia_advances_2017': {'abstract': 'Accurate and automatic detection of clouds in optical Earth observation satellite scenes is a key issue for a wide range of remote sensing applications. With no accurate cloud masking, undetected clouds are one of the most significant sources of error in both sea and land biophysical parameter retrieval. We present recent advances in statistical cloud detection for Proba-V imagery.\\nThe objective of the cloud masking algorithms is to detect clouds accurately providing a cloud flag per pixel. We first approach the problem from the classical machine learning perspective based on feature extraction plus supervised classification with neural networks (NN). Using this approach we significantly improve the cloud detection accuracy compared to the operational Proba-V algorithm. Then we approach the problem using deep learning methods based on convolutional neural networks (CNN). Experimental results show that CNN are a promising alternative for solving cloud masking problems.',\n",
       "  'authors': '<u>Gonzalo Mateo-García</u>, Luis Gómez-Chova, Jordi Muñoz-Marí and Gustau Camps-Valls',\n",
       "  'bibtex': '@inproceedings{mateo-garcia_advances_2017,\\n author = {Mateo-García, Gonzalo and Gómez-Chova, Luis and Muñoz-Marí, Jordi and Camps-Valls, Gustau},\\n booktitle = {Vth {International} {Symposium}: {Recent} {Advances} in {Quantitative} {Remote} {Sensing}, {Sept} 2017, ({RAQRS})},\\n copyright = {All rights reserved},\\n keyword = {AD 2011 10 28, ADL, Aerosol EDR, Aerosol Environmental Data Record Algorithm, aerosols, Aerosols, Algorithm Development Library, artificial satellites, Cloud Mask algorithms, geophysical equipment, Joint Polar Satellite System satellite, JPSS, JPSS VIIRS aerosol EDR algorithms, NOAA Interface Data Processing Segment, Ocean temperature, radiometers, Radiometry, Satellite broadcasting, Satellites, scanning radiometer, Sea surface, Sensors, upstream-downstream effects, VIIRS, VIIRS Sensor Data Record, Visible Infrared Imaging Radiometer Suite},\\n link = {http://ipl.uv.es/raqrs/},\\n month = {sep},\\n title = {Advances in statistical cloud screening: the {Proba}-{V} case study},\\n year = {2017}\\n}\\n\\n',\n",
       "  'date': datetime.datetime(2017, 9, 1, 0, 0)},\n",
       " 'mateo-garcia_cloud_2017': {'abstract': 'The vast amount of data acquired by current high resolution Earth observation satellites implies some technical challenges to be faced. Google Earth Engine (GEE) platform provides a framework for the  development of algorithms and products built over this data in an easy and scalable manner. In this paper, we take advantage of the GEE platform capabilities to exploit the wealth of information in the temporal dimension by processing a long time series of satellite images.\\nA cloud detection algorithm for Landsat-8, which uses previous images of the same location to detect clouds, is implemented and tested on the GEE platform.',\n",
       "  'authors': '<u>Gonzalo Mateo-García</u>, Jordi Muñoz-Marí and Luis Gómez-Chova',\n",
       "  'bibtex': '@inproceedings{mateo-garcia_cloud_2017,\\n author = {Mateo-García, Gonzalo and Muñoz-Marí, Jordi and Gómez-Chova, Luis},\\n booktitle = {2017 {IEEE} {International} {Geoscience} and {Remote} {Sensing} {Symposium} ({IGARSS})},\\n copyright = {All rights reserved},\\n keyword = {AD 2011 10 28, ADL, Aerosol EDR, Aerosol Environmental Data Record Algorithm, aerosols, Aerosols, Algorithm Development Library, artificial satellites, Cloud Mask algorithms, geophysical equipment, Joint Polar Satellite System satellite, JPSS, JPSS VIIRS aerosol EDR algorithms, NOAA Interface Data Processing Segment, Ocean temperature, radiometers, Radiometry, Satellite broadcasting, Satellites, scanning radiometer, Sea surface, Sensors, upstream-downstream effects, VIIRS, VIIRS Sensor Data Record, Visible Infrared Imaging Radiometer Suite},\\n month = {jul},\\n title = {Cloud detection on the {Google} {Earth} {Engine} platform},\\n year = {2017}\\n}\\n\\n',\n",
       "  'date': datetime.datetime(2017, 7, 1, 0, 0)},\n",
       " 'mateo-garcia_convolutional_2017': {'abstract': 'Convolutional neural networks (CNN) have proven to be  state of the art methods for many image classification tasks and their use is rapidly increasing in remote sensing problems. One of their major strengths is that, when enough data is available, CNN perform an end-to-end learning without the need of custom feature extraction methods.\\nIn this work, we study the use of different CNN architectures for cloud masking of Proba-V multispectral images. We compare such methods with the more classical machine learning approach based on feature extraction plus supervised classification. Experimental results suggest that CNN are a promising alternative for solving cloud masking problems.',\n",
       "  'authors': '<u>Gonzalo Mateo-García</u>, Luis Gómez-Chova and Gustau Camps-Valls',\n",
       "  'bibtex': '@inproceedings{mateo-garcia_convolutional_2017,\\n author = {Mateo-García, Gonzalo and Gómez-Chova, Luis and Camps-Valls, Gustau},\\n booktitle = {2017 {IEEE} {International} {Geoscience} and {Remote} {Sensing} {Symposium} ({IGARSS})},\\n copyright = {All rights reserved},\\n keyword = {AD 2011 10 28, ADL, Aerosol EDR, Aerosol Environmental Data Record Algorithm, aerosols, Aerosols, Algorithm Development Library, artificial satellites, Cloud Mask algorithms, geophysical equipment, Joint Polar Satellite System satellite, JPSS, JPSS VIIRS aerosol EDR algorithms, NOAA Interface Data Processing Segment, Ocean temperature, radiometers, Radiometry, Satellite broadcasting, Satellites, scanning radiometer, Sea surface, Sensors, upstream-downstream effects, VIIRS, VIIRS Sensor Data Record, Visible Infrared Imaging Radiometer Suite},\\n month = {jul},\\n title = {Convolutional {Neural} {Networks} for {Multispectral} {Image} {Cloud} {Masking}},\\n year = {2017}\\n}\\n\\n',\n",
       "  'date': datetime.datetime(2017, 7, 1, 0, 0)},\n",
       " 'perez-suay_fair_2017': {'abstract': \"New social and economic activities massively exploit big data and machine learning algorithms to do inference on people's lives. Applications include automatic curricula evaluation, wage determination, and risk assessment for credits and loans. Recently, many governments and institutions have raised concerns about the lack of fairness, equity and ethics in machine learning to treat these problems. It has been shown that not including sensitive features that bias fairness, such as gender or race, is not enough to mitigate the discrimination when other related features are included. Instead, including fairness in the objective function has been shown to be more efficient.\\nWe present novel fair regression and dimensionality reduction methods built on a previously proposed fair classification framework. Both methods rely on using the Hilbert Schmidt independence criterion as the fairness term. Unlike previous approaches, this allows us to simplify the problem and to use multiple sensitive variables simultaneously. Replacing the linear formulation by kernel functions allows the methods to deal with nonlinear problems. For both linear and nonlinear formulations the solution reduces to solving simple matrix inversions or generalized eigenvalue problems. This simplifies the evaluation of the solutions for different trade-off values between the predictive error and fairness terms. We illustrate the usefulness of the proposed methods in toy examples, and evaluate their performance on real world datasets to predict income using gender and/or race discrimination as sensitive variables, and contraceptive method prediction under demographic and socio-economic sensitive descriptors.\",\n",
       "  'authors': 'Adrián Pérez-Suay, Valero Laparra, <u>Gonzalo Mateo-García</u>, Jordi Muñoz-Marí, Luis Gómez-Chova and Gustau Camps-Valls',\n",
       "  'bibtex': '@inproceedings{perez-suay_fair_2017,\\n author = {Pérez-Suay, Adrián and Laparra, Valero and Mateo-García, Gonzalo and Muñoz-Marí, Jordi and Gómez-Chova, Luis and Camps-Valls, Gustau},\\n booktitle = {2017 {European} {Conference} on {Machine} {Learning} ({ECML})},\\n copyright = {All rights reserved},\\n file = {arXiv\\\\:1710.05578 PDF:/home/gonzalo/Zotero/storage/FGXXS8G8/Pérez-Suay et al. - 2017 - Fair Kernel Learning.pdf:application/pdf;arXiv.org Snapshot:/home/gonzalo/Zotero/storage/IQKRNU76/1710.html:text/html},\\n keyword = {Statistics - Machine Learning},\\n link = {http://arxiv.org/abs/1710.05578},\\n month = {sep},\\n note = {arXiv: 1710.05578},\\n title = {Fair {Kernel} {Learning}},\\n urldate = {2017-12-01},\\n year = {2017}\\n}\\n\\n',\n",
       "  'date': datetime.datetime(2017, 9, 1, 0, 0)}}"
      ]
     },
     "execution_count": 4,
     "metadata": {},
     "output_type": "execute_result"
    }
   ],
   "source": [
    "extra = dict()\n",
    "for k,v in bib_database.entries_dict.items():\n",
    "    bibentry = bib_data.entries[k]\n",
    "    nueva_ent = dict(v)\n",
    "    extra[k] = dict()\n",
    "    extra[k][\"abstract\"] = v[\"abstract\"]\n",
    "    nueva_ent.pop(\"abstract\")\n",
    "    nueva_bd = bibtexparser.bibdatabase.BibDatabase()\n",
    "    nueva_bd.entries = [nueva_ent]\n",
    "    extra[k][\"bibtex\"] = bibtexparser.dumps(nueva_bd)\n",
    "    authors_feos = bibentry.rich_fields.get('author')\n",
    "    #print(authors_feos)\n",
    "    authors = [ ]\n",
    "    for aut in authors_feos.split(\"and\"):\n",
    "        surname, name = aut.split(\",\")\n",
    "        nombre_bien = str(name).replace(\" \",\"\")+\" \"+str(surname).replace(\" \",\"\")\n",
    "        if nombre_bien == \"Gonzalo Mateo-García\":\n",
    "            nombre_bien  = \"<u>%s</u>\"%nombre_bien\n",
    "        authors.append(nombre_bien)\n",
    "    extra[k][\"authors\"] = \", \".join(authors[:-1])+\" and \"+authors[-1]\n",
    "    year_month = bibentry.fields[\"year\"]+\" \"+bibentry.fields[\"month\"]\n",
    "    dat = datetime.strptime(year_month+\" 01\",\"%Y %B %d\")\n",
    "    extra[k][\"date\"] = dat\n",
    "    \n",
    "extra\n",
    "    "
   ]
  },
  {
   "cell_type": "code",
   "execution_count": 9,
   "metadata": {},
   "outputs": [
    {
     "data": {
      "text/html": [
       "<a href='http://localhost:4000/publications/index_2.html' target='blank'>link</a>"
      ],
      "text/plain": [
       "<IPython.core.display.HTML object>"
      ]
     },
     "metadata": {},
     "output_type": "display_data"
    }
   ],
   "source": [
    "import jinja2\n",
    "import os\n",
    "\n",
    "ordered_keys = sorted(extra.keys(),key=lambda k: extra[k][\"date\"],reverse=True)\n",
    "extra[\"mateo-garcia_convolutional_2017\"][\"slides\"] = \"https://www.dropbox.com/s/v5mf77lcbzeqq35/1640_cnn_MateoGarcia.pdf?raw=1\"\n",
    "extra[\"mateo-garcia_cloud_2017\"][\"poster\"] = \"https://www.dropbox.com/s/mzx83weuvqpsalv/conference_poster_6.pdf?raw=1\"\n",
    "extra[\"mateo-garcia_advances_2017\"][\"poster\"] = \"https://www.dropbox.com/s/or8l3r15i8unvgx/conference_poster_6.pdf?raw=1\"\n",
    "\n",
    "def get_template(tpl_path):\n",
    "    path, filename = os.path.split(tpl_path)\n",
    "    return jinja2.Environment(\n",
    "        loader=jinja2.FileSystemLoader(path or './')\n",
    "    ).get_template(filename)\n",
    "\n",
    "tpl = get_template(\"template_pubs.tpl\")\n",
    "\n",
    "with open(\"index_2.html\", \"w\") as s:\n",
    "    tpl.stream(bib_data=bib_data,extra=extra,ordered_keys=ordered_keys,absolute_rel_path=\"\").dump(s)\n",
    "\n",
    "display(HTML(\"<a href='http://localhost:4000/publications/index_2.html' target='blank'>link</a>\"))\n"
   ]
  }
 ],
 "metadata": {
  "kernelspec": {
   "display_name": "Python 3",
   "language": "python",
   "name": "python3"
  },
  "language_info": {
   "codemirror_mode": {
    "name": "ipython",
    "version": 3
   },
   "file_extension": ".py",
   "mimetype": "text/x-python",
   "name": "python",
   "nbconvert_exporter": "python",
   "pygments_lexer": "ipython3",
   "version": "3.6.2"
  }
 },
 "nbformat": 4,
 "nbformat_minor": 2
}
