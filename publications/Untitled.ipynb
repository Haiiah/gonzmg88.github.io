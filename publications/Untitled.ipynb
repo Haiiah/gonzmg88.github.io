{
 "cells": [
  {
   "cell_type": "code",
   "execution_count": 1,
   "metadata": {},
   "outputs": [
    {
     "data": {
      "text/html": [
       "<a href='https://www.spiedigitallibrary.org/journals/Journal-of-Applied-Remote-Sensing/volume-11/issue-1/015005/Cloud-masking-and-removal-in-remote-sensing-image-time-series/10.1117/1.JRS.11.015005.short'>[Gómez-Chova et al. 2017]</a></br>[Iannone et al. 2017]</br><a href='http://ipl.uv.es/raqrs/'>[Mateo-García et al. 2017]</a></br>[Munoz-Mari et al. 2017]</br>[Mateo-García et al. 2017]</br>[Gómez-Chova et al. 2017]</br>[Mateo-García et al. 2017]</br><a href='https://link.springer.com/chapter/10.1007/978-3-319-71249-9_21'>[Pérez-Suay et al. 2017]</a></br>"
      ],
      "text/plain": [
       "<IPython.core.display.HTML object>"
      ]
     },
     "execution_count": 1,
     "metadata": {},
     "output_type": "execute_result"
    }
   ],
   "source": [
    "from IPython.display import HTML,display\n",
    "import bibtexparser\n",
    "from pybtex.database.input import bibtex\n",
    "\n",
    "filebib = 'pubs.bib'\n",
    "parser = bibtex.Parser()\n",
    "bib_data = parser.parse_file(filebib)\n",
    "\n",
    "with open(filebib) as bibtex_file:\n",
    "    bib_database = bibtexparser.load(bibtex_file)\n",
    "\n",
    "def make_cita(bibentry):\n",
    "    text_latex = bibentry.rich_fields.get('author')\n",
    "    persons_print =[person.split(\",\")[0] for person in str(text_latex).split(\"and \")]\n",
    "    #print(persons_print,len(persons_print))\n",
    "    if len(persons_print)==1:\n",
    "        cita = persons_print[0]\n",
    "    elif len(persons_print)==2:\n",
    "        cita = \" and \".join(persons_print) \n",
    "    else:\n",
    "        cita = persons_print[0]+\" et al.\"\n",
    "\n",
    "    cita+=\" \"+ str(bibentry.rich_fields.get('year'))\n",
    "    return cita\n",
    "\n",
    "string = \"\"\n",
    "for bibentry_key in sorted(bib_data.entries.keys(),key=lambda x: bib_data.entries[x].fields[\"year\"]):\n",
    "    bibentry = bib_data.entries[bibentry_key]\n",
    "    # bibentry.rich_fields.get('title')\n",
    "    #print(make_cita(bibentry),\"--->\",nombres[bibentry_key])\n",
    "    if \"url\" in bibentry.fields:\n",
    "        string+=\"<a href='%s'>[%s]</a></br>\"%(bibentry.fields[\"url\"],make_cita(bibentry))\n",
    "    else:\n",
    "        string+=\"[%s]</br>\"%(make_cita(bibentry))\n",
    "            \n",
    "\n",
    "HTML(string)"
   ]
  },
  {
   "cell_type": "code",
   "execution_count": 14,
   "metadata": {},
   "outputs": [
    {
     "data": {
      "text/plain": [
       "{'gomez-chova_cloud_2017': {'abstract': 'Automatic cloud masking of Earth observation images is one of the first required steps in optical remote sensing data processing since the operational use and product generation from satellite image time series might be hampered by undetected clouds. The high temporal revisit of current and forthcoming missions and the scarcity of labeled data force us to cast cloud screening as an unsupervised change detection problem in the temporal domain. We introduce a cloud screening method based on detecting abrupt changes along the time dimension. The main assumption is that image time series follow smooth variations over land (background) and abrupt changes will be mainly due to the presence of clouds. The method estimates the background surface changes using the information in the time series. In particular, we propose linear and nonlinear least squares regression algorithms that minimize both the prediction and the estimation error simultaneously. Then, significant differences in the image of interest with respect to the estimated background are identified as clouds. The use of kernel methods allows the generalization of the algorithm to account for higher-order (nonlinear) feature relations. After the proposed cloud masking and cloud removal, cloud-free time series at high spatial resolution can be used to obtain a better monitoring of land cover dynamics and to generate more elaborated products. The method is tested in a dataset with 5-day revisit time series from SPOT-4 at high resolution and with Landsat-8 time series. Experimental results show that the proposed method yields more accurate cloud masks when confronted with state-of-the-art approaches typically used in operational settings. In addition, the algorithm has been implemented in the Google Earth Engine platform, which allows us to access the full Landsat-8 catalog and work in a parallel distributed platform to extend its applicability to a global planetary scale.',\n",
       "  'authors': 'Luis Gómez-Chova, Julia Amorós-López, <u>Gonzalo Mateo-García</u>, Jordi Muñoz-Marí and Gustau Camps-Valls',\n",
       "  'bibtex': '{% raw %} @article{gomez-chova_cloud_2017,\\n author = {Gómez-Chova, Luis and Amorós-López, Julia and Mateo-García, Gonzalo and Muñoz-Marí, Jordi and Camps-Valls, Gustau},\\n copyright = {All rights reserved},\\n doi = {10.1117/1.JRS.11.015005},\\n issn = {1931-3195, 1931-3195},\\n journal = {Journal of Applied Remote Sensing},\\n link = {https://www.spiedigitallibrary.org/journals/Journal-of-Applied-Remote-Sensing/volume-11/issue-1/015005/Cloud-masking-and-removal-in-remote-sensing-image-time-series/10.1117/1.JRS.11.015005.short},\\n month = {jan},\\n number = {1},\\n pages = {015005},\\n title = {Cloud masking and removal in remote sensing image time series},\\n urldate = {2017-10-09},\\n volume = {11},\\n year = {2017}\\n} {% endraw %}',\n",
       "  'date': datetime.datetime(2017, 1, 1, 0, 0),\n",
       "  'doi': Text('10.1117/1.JRS.11.015005'),\n",
       "  'journal': Text('Journal of Applied Remote Sensing'),\n",
       "  'title': Text('Cloud masking and removal in remote sensing image time series'),\n",
       "  'url': Text('https://www.spiedigitallibrary.org/journals/Journal-of-Applied-Remote-Sensing/volume-11/issue-1/015005/Cloud-masking-and-removal-in-remote-sensing-image-time-series/10.1117/1.JRS.11.015005.short')},\n",
       " 'gomez-chova_cloud_2017-1': {'abstract': 'This paper presents the development and implementation of a cloud detection algorithm for Proba-V. Accurate and automatic detection of clouds in satellite scenes is a key issue for a wide range of remote sensing applications. With no accurate cloud masking, undetected clouds are one of the most significant sources of error in both sea and land cover biophysical parameter retrieval. The objective of the algorithms presented in this paper is to detect clouds accurately providing a cloud flag per pixel. For this purpose, the method exploits the information of Proba-V using statistical machine learning techniques to identify the clouds present in Proba-V products. The effectiveness of the proposed method is successfully illustrated using a large number of real Proba-V images.',\n",
       "  'authors': 'L. Gómez-Chova, G. Mateo-García, J. Muñoz-Marí and G. Camps-Valls',\n",
       "  'bibtex': '{% raw %} @inproceedings{gomez-chova_cloud_2017-1,\\n author = {Gómez-Chova, L. and Mateo-García, G. and Muñoz-Marí, J. and Camps-Valls, G.},\\n booktitle = {2017 {IEEE} {International} {Geoscience} and {Remote} {Sensing} {Symposium} ({IGARSS})},\\n doi = {10.1109/IGARSS.2017.8127437},\\n keyword = {Clouds, Feature extraction, cloud detection, Snow, remote sensing, Training, Support vector machines, cloud masking, clouds, Proba-V, Brightness, geophysical image processing, land cover, learning (artificial intelligence), automatic cloud detection, cloud detection machine learning algorithms, land cover biophysical parameter retrieval, Machine learning algorithms, ML, PROBA-V images, PROBA-V products, remote sensing applications, satellite scenes, sea, statistical analysis, statistical machine learning techniques},\\n month = {jul},\\n pages = {2251--2254},\\n title = {Cloud detection machine learning algorithms for {PROBA}-{V}},\\n year = {2017}\\n} {% endraw %}',\n",
       "  'booktitle': Text('2017 ', Protected('IEEE'), ' ', Protected('International'), ' ', Protected('Geoscience'), ' and ', Protected('Remote'), ' ', Protected('Sensing'), ' ', Protected('Symposium'), ' (', Protected('IGARSS'), ')'),\n",
       "  'date': datetime.datetime(2017, 7, 1, 0, 0),\n",
       "  'doi': Text('10.1109/IGARSS.2017.8127437'),\n",
       "  'title': Text('Cloud detection machine learning algorithms for ', Protected('PROBA'), '-', Protected('V'))},\n",
       " 'iannone_proba-v_2017': {'abstract': 'This paper discusses results from 12 months of a Round Robin exercise aimed at the inter-comparison of different cloud detection algorithms for Proba-V.\\nClouds detection is a critical issue for satellite optical remote sensing, since potential errors in cloud masking directly translates into significant uncertainty in the retrieved downstream geophysical products. Cloud detection is particularly challenging for Proba-V due to the presence of a limited number of spectral bands and the lack of thermal infrared bands. The main objective of the project was the inter-comparison of several cloud detection algorithms for Proba-V over a wide range of surface types and environmental conditions. Proba-V Level 2a products have been distributed to six different algorithm providers representing companies and research institutes in several European countries. The considered cloud detection approaches are based on different strategies: Neural Network, Discriminant Analysis, Multi-spectral and Multi-textural Thresholding, Self-Organizing Feature Maps, Dynamic Thresholding, and physically-based retrieval of Cloud Optical Thickness. The results from all algorithms were analysed and compared against a reference dataset, consisting of a large number (more than fifty thousands) of visually classified pixels.\\nThe quality assessment was performed according to a uniform methodology and the results provide clear indication on the potential best-suited approach for next Proba-V cloud detection algorithm.',\n",
       "  'authors': 'R.Q. Iannone, F. Niro, P. Goryl, S. Dransfeld, B. Hoersch, K. Stelzer, G. Kirches, M. Paperin, C. Brockmann, Luis Gómez-Chova, <u>Gonzalo Mateo-García</u>, R. Preusker, J. Fischer, U. Amato, C. Serio, U. Gangkofner, B. Berthelot, M.D. Iordache, L. Bertels, E. Wolters, W. Dierckx, I. Benhadj and E. Swinnen',\n",
       "  'bibtex': '{% raw %} @inproceedings{iannone_proba-v_2017,\\n author = {Iannone, R. Q. and Niro, F. and Goryl, P. and Dransfeld, S. and Hoersch, B. and Stelzer, K. and Kirches, G. and Paperin, M. and Brockmann, C. and Gómez-Chova, Luis and Mateo-García, Gonzalo and Preusker, R. and Fischer, J. and Amato, U. and Serio, C. and Gangkofner, U. and Berthelot, B. and Iordache, M. D. and Bertels, L. and Wolters, E. and Dierckx, W. and Benhadj, I. and Swinnen, E.},\\n booktitle = {2017 9th {International} {Workshop} on the {Analysis} of {Multitemporal} {Remote} {Sensing} {Images} ({MultiTemp})},\\n copyright = {All rights reserved},\\n doi = {10.1109/Multi-Temp.2017.8035219},\\n keyword = {Clouds, remote sensing, atmospheric techniques, Cloud Detection Algorithm, cloud detection approaches, cloud masking, cloud optical thickness, clouds, Detection algorithms, discriminant analysis, downstream geophysical products, environmental conditions, European countries, Land surface, MODIS, multispectral thresholding, multitextural thresholding, neural network, Proba-V, Proba-V cloud detection algorithm, Proba-V cloud detection Round Robin, Proba-V level 2a products, Reflectivity, Round robin, Round Robin, satellite optical remote sensing, Satellites, self-organizing feature maps, spectral bands, surface types, thermal infrared bands},\\n month = {jun},\\n pages = {1--8},\\n shorttitle = {Proba-{V} cloud detection {Round} {Robin}},\\n title = {Proba-{V} cloud detection {Round} {Robin}: {Validation} results and recommendations},\\n year = {2017}\\n} {% endraw %}',\n",
       "  'booktitle': Text('2017 9th ', Protected('International'), ' ', Protected('Workshop'), ' on the ', Protected('Analysis'), ' of ', Protected('Multitemporal'), ' ', Protected('Remote'), ' ', Protected('Sensing'), ' ', Protected('Images'), ' (', Protected('MultiTemp'), ')'),\n",
       "  'date': datetime.datetime(2017, 6, 1, 0, 0),\n",
       "  'doi': Text('10.1109/Multi-Temp.2017.8035219'),\n",
       "  'title': Text('Proba-', Protected('V'), ' cloud detection ', Protected('Round'), ' ', Protected('Robin'), ': ', Protected('Validation'), ' results and recommendations')},\n",
       " 'mateo-garcia_advances_2017': {'abstract': 'Accurate and automatic detection of clouds in optical Earth observation satellite scenes is a key issue for a wide range of remote sensing applications. With no accurate cloud masking, undetected clouds are one of the most significant sources of error in both sea and land biophysical parameter retrieval. We present recent advances in statistical cloud detection for Proba-V imagery.\\nThe objective of the cloud masking algorithms is to detect clouds accurately providing a cloud flag per pixel. We first approach the problem from the classical machine learning perspective based on feature extraction plus supervised classification with neural networks (NN). Using this approach we significantly improve the cloud detection accuracy compared to the operational Proba-V algorithm. Then we approach the problem using deep learning methods based on convolutional neural networks (CNN). Experimental results show that CNN are a promising alternative for solving cloud masking problems.',\n",
       "  'authors': '<u>Gonzalo Mateo-García</u>, Luis Gómez-Chova, Jordi Muñoz-Marí and Gustau Camps-Valls',\n",
       "  'bibtex': '{% raw %} @inproceedings{mateo-garcia_advances_2017,\\n author = {Mateo-García, Gonzalo and Gómez-Chova, Luis and Muñoz-Marí, Jordi and Camps-Valls, Gustau},\\n booktitle = {Vth {International} {Symposium}: {Recent} {Advances} in {Quantitative} {Remote} {Sensing}, {Sept} 2017, ({RAQRS})},\\n copyright = {All rights reserved},\\n keyword = {Satellites, AD 2011 10 28, ADL, Aerosol EDR, Aerosol Environmental Data Record Algorithm, aerosols, Aerosols, Algorithm Development Library, artificial satellites, Cloud Mask algorithms, geophysical equipment, Joint Polar Satellite System satellite, JPSS, JPSS VIIRS aerosol EDR algorithms, NOAA Interface Data Processing Segment, Ocean temperature, radiometers, Radiometry, Satellite broadcasting, scanning radiometer, Sea surface, Sensors, upstream-downstream effects, VIIRS, VIIRS Sensor Data Record, Visible Infrared Imaging Radiometer Suite},\\n link = {http://ipl.uv.es/raqrs/},\\n month = {sep},\\n title = {Advances in statistical cloud screening: the {Proba}-{V} case study},\\n year = {2017}\\n} {% endraw %}',\n",
       "  'booktitle': Text('Vth ', Protected('International'), ' ', Protected('Symposium'), ': ', Protected('Recent'), ' ', Protected('Advances'), ' in ', Protected('Quantitative'), ' ', Protected('Remote'), ' ', Protected('Sensing'), ', ', Protected('Sept'), ' 2017, (', Protected('RAQRS'), ')'),\n",
       "  'date': datetime.datetime(2017, 9, 1, 0, 0),\n",
       "  'title': Text('Advances in statistical cloud screening: the ', Protected('Proba'), '-', Protected('V'), ' case study'),\n",
       "  'url': Text('http://ipl.uv.es/raqrs/')},\n",
       " 'mateo-garcia_cloud_2017': {'abstract': 'The vast amount of data acquired by current high resolution Earth observation satellites implies some technical challenges to be faced. Google Earth Engine (GEE) platform provides a framework for the development of algorithms and products built over this data in an easy and scalable manner. In this paper, we take advantage of the GEE platform capabilities to exploit the wealth of information in the temporal dimension by processing a long time series of satellite images. A cloud detection algorithm for Landsat-8, which uses previous images of the same location to detect clouds, is implemented and tested on the GEE platform.',\n",
       "  'authors': 'G. Mateo-García, J. Muñoz-Marí and L. Gómez-Chova',\n",
       "  'bibtex': '{% raw %} @inproceedings{mateo-garcia_cloud_2017,\\n author = {Mateo-García, G. and Muñoz-Marí, J. and Gómez-Chova, L.},\\n booktitle = {2017 {IEEE} {International} {Geoscience} and {Remote} {Sensing} {Symposium} ({IGARSS})},\\n doi = {10.1109/IGARSS.2017.8127359},\\n keyword = {Clouds, remote sensing, cloud masking, clouds, geophysical image processing, Remote sensing, Artificial satellites, change detection, cloud detection algorithm, Earth, Engines, GEE platform capabilities, Google, Google Earth Engine (GEE), google Earth engine platform, Google Earth Engine platform, high resolution Earth observation satellites, Landsat-8, long time series, multitemporal analysis, satellite images, technical challenges, temporal dimension, time series, Time series analysis},\\n month = {jul},\\n pages = {1942--1945},\\n title = {Cloud detection on the {Google} {Earth} engine platform},\\n year = {2017}\\n} {% endraw %}',\n",
       "  'booktitle': Text('2017 ', Protected('IEEE'), ' ', Protected('International'), ' ', Protected('Geoscience'), ' and ', Protected('Remote'), ' ', Protected('Sensing'), ' ', Protected('Symposium'), ' (', Protected('IGARSS'), ')'),\n",
       "  'date': datetime.datetime(2017, 7, 1, 0, 0),\n",
       "  'doi': Text('10.1109/IGARSS.2017.8127359'),\n",
       "  'title': Text('Cloud detection on the ', Protected('Google'), ' ', Protected('Earth'), ' engine platform')},\n",
       " 'mateo-garcia_convolutional_2017': {'abstract': 'Convolutional neural networks (CNN) have proven to be state of the art methods for many image classification tasks and their use is rapidly increasing in remote sensing problems. One of their major strengths is that, when enough data is available, CNN perform an end-to-end learning without the need of custom feature extraction methods. In this work, we study the use of different CNN architectures for cloud masking of Proba-V multispectral images. We compare such methods with the more classical machine learning approach based on feature extraction plus supervised classification. Experimental results suggest that CNN are a promising alternative for solving cloud masking problems.',\n",
       "  'authors': 'G. Mateo-García, L. Gómez-Chova and G. Camps-Valls',\n",
       "  'bibtex': '{% raw %} @inproceedings{mateo-garcia_convolutional_2017,\\n author = {Mateo-García, G. and Gómez-Chova, L. and Camps-Valls, G.},\\n booktitle = {2017 {IEEE} {International} {Geoscience} and {Remote} {Sensing} {Symposium} ({IGARSS})},\\n doi = {10.1109/IGARSS.2017.8127438},\\n keyword = {Clouds, deep learning, Feature extraction, cloud detection, remote sensing, Training, cloud masking, Proba-V, feature extraction, image classification, Instruments, geophysical image processing, neural nets, Remote sensing, learning (artificial intelligence), art methods, cloud masking problems, convolutional neural networks, Convolutional neural networks, custom feature extraction, different CNN architectures, end-to-end learning, image classification tasks, multispectral image cloud masking, Proba-V multispectral images, remote sensing problems, V},\\n month = {jul},\\n pages = {2255--2258},\\n title = {Convolutional neural networks for multispectral image cloud masking},\\n year = {2017}\\n} {% endraw %}',\n",
       "  'booktitle': Text('2017 ', Protected('IEEE'), ' ', Protected('International'), ' ', Protected('Geoscience'), ' and ', Protected('Remote'), ' ', Protected('Sensing'), ' ', Protected('Symposium'), ' (', Protected('IGARSS'), ')'),\n",
       "  'date': datetime.datetime(2017, 7, 1, 0, 0),\n",
       "  'doi': Text('10.1109/IGARSS.2017.8127438'),\n",
       "  'title': Text('Convolutional neural networks for multispectral image cloud masking')},\n",
       " 'munoz-mari_hyperlabelme_2017': {'abstract': \"HyperLabelMe is a web platform that allows the automatic benchmarking of remote-sensing image classifiers. To demonstrate this platform's attributes, we collected and harmonized a large data set of labeled multispectral and hyperspectral images with different numbers of classes, dimensionality, noise sources, and levels. The registered user can download training data pairs (spectra and land cover/use labels) and submit the predictions for unseen testing spectra. The system then evaluates the accuracy and robustness of the classifier, and it reports different scores as well as a ranked list of the best methods and users. The system is modular, scalable, and ever-growing in data sets and classifier results.\",\n",
       "  'authors': 'J. Munoz-Mari, E. Izquierdo-Verdiguier, M. Campos-Taberner, A. Perez-Suay, L. Gomez-Chova, G. Mateo-Garcia, A.B. Ruescas, V. Laparra, J.A. Padron, J. Amoros-Lopez and G. Camps-Valls',\n",
       "  'bibtex': '{% raw %} @article{munoz-mari_hyperlabelme_2017,\\n author = {Munoz-Mari, J. and Izquierdo-Verdiguier, E. and Campos-Taberner, M. and Perez-Suay, A. and Gomez-Chova, L. and Mateo-Garcia, G. and Ruescas, A. B. and Laparra, V. and Padron, J. A. and Amoros-Lopez, J. and Camps-Valls, G.},\\n doi = {10.1109/MGRS.2017.2762476},\\n issn = {2473-2397},\\n journal = {IEEE Geoscience and Remote Sensing Magazine},\\n keyword = {Image classification, Classification algorithms, Benchmark testing, Hyperspectral imaging, Web and Internet services},\\n month = {dec},\\n number = {4},\\n pages = {79--85},\\n shorttitle = {HyperLabelMe},\\n title = {{HyperLabelMe} : {A} {Web} {Platform} for {Benchmarking} {Remote}-{Sensing} {Image} {Classifiers}},\\n volume = {5},\\n year = {2017}\\n} {% endraw %}',\n",
       "  'date': datetime.datetime(2017, 12, 1, 0, 0),\n",
       "  'doi': Text('10.1109/MGRS.2017.2762476'),\n",
       "  'journal': Text('IEEE Geoscience and Remote Sensing Magazine'),\n",
       "  'title': Text(Protected('HyperLabelMe'), ' : ', Protected('A'), ' ', Protected('Web'), ' ', Protected('Platform'), ' for ', Protected('Benchmarking'), ' ', Protected('Remote'), '-', Protected('Sensing'), ' ', Protected('Image'), ' ', Protected('Classifiers'))},\n",
       " 'perez-suay_fair_2017': {'abstract': 'New social and economic activities massively exploit big data and machine learning algorithms to do inference on people’s lives. Applications include automatic curricula evaluation, wage determination, and risk assessment for credits and loans. Recently, many governments and institutions have raised concerns about the lack of fairness, equity and ethics in machine learning to treat these problems. It has been shown that not including sensitive features that bias fairness, such as gender or race, is not enough to mitigate the discrimination when other related features are included. Instead, including fairness in the objective function has been shown to be more efficient.We present novel fair regression and dimensionality reduction methods built on a previously proposed fair classification framework. Both methods rely on using the Hilbert Schmidt independence criterion as the fairness term. Unlike previous approaches, this allows us to simplify the problem and to use multiple sensitive variables simultaneously. Replacing the linear formulation by kernel functions allows the methods to deal with nonlinear problems. For both linear and nonlinear formulations the solution reduces to solving simple matrix inversions or generalized eigenvalue problems. This simplifies the evaluation of the solutions for different trade-off values between the predictive error and fairness terms. We illustrate the usefulness of the proposed methods in toy examples, and evaluate their performance on real world datasets to predict income using gender and/or race discrimination as sensitive variables, and contraceptive method prediction under demographic and socio-economic sensitive descriptors.',\n",
       "  'authors': 'Adrián Pérez-Suay, Valero Laparra, <u>Gonzalo Mateo-García</u>, Jordi Muñoz-Marí, Luis Gómez-Chova and Gustau Camps-Valls',\n",
       "  'bibtex': '{% raw %} @inproceedings{perez-suay_fair_2017,\\n author = {Pérez-Suay, Adrián and Laparra, Valero and Mateo-García, Gonzalo and Muñoz-Marí, Jordi and Gómez-Chova, Luis and Camps-Valls, Gustau},\\n booktitle = {Machine {Learning} and {Knowledge} {Discovery} in {Databases}},\\n doi = {10.1007/978-3-319-71249-9_21},\\n isbn = {978-3-319-71248-2 978-3-319-71249-9},\\n language = {en},\\n link = {https://link.springer.com/chapter/10.1007/978-3-319-71249-9_21},\\n month = {sep},\\n pages = {339--355},\\n publisher = {Springer, Cham},\\n series = {Lecture {Notes} in {Computer} {Science}},\\n title = {Fair {Kernel} {Learning}},\\n urldate = {2018-03-14},\\n year = {2017}\\n} {% endraw %}',\n",
       "  'booktitle': Text('Machine ', Protected('Learning'), ' and ', Protected('Knowledge'), ' ', Protected('Discovery'), ' in ', Protected('Databases')),\n",
       "  'date': datetime.datetime(2017, 9, 1, 0, 0),\n",
       "  'doi': Text('10.1007/978-3-319-71249-9_21'),\n",
       "  'title': Text('Fair ', Protected('Kernel'), ' ', Protected('Learning')),\n",
       "  'url': Text('https://link.springer.com/chapter/10.1007/978-3-319-71249-9_21')}}"
      ]
     },
     "execution_count": 14,
     "metadata": {},
     "output_type": "execute_result"
    }
   ],
   "source": [
    "from datetime import datetime\n",
    "\n",
    "extra = dict()\n",
    "for k,v in bib_database.entries_dict.items():\n",
    "    bibentry = bib_data.entries[k]\n",
    "    nueva_ent = dict(v)\n",
    "    extra[k] = dict()\n",
    "    extra[k][\"abstract\"] = v[\"abstract\"]\n",
    "    extra[k][\"title\"] = bibentry.rich_fields.get('title')\n",
    "    \n",
    "    copyifkeys = [\"journal\",\"url\",\"doi\",\"booktitle\"]\n",
    "    for ci in copyifkeys:  \n",
    "        if ci in bibentry.fields:\n",
    "            extra[k][ci] = bibentry.rich_fields.get(ci)\n",
    "    \n",
    "    \n",
    "    nueva_ent.pop(\"abstract\")\n",
    "    nueva_bd = bibtexparser.bibdatabase.BibDatabase()\n",
    "    if \"file\" in nueva_ent:\n",
    "        nueva_ent.pop(\"file\")\n",
    "    nueva_bd.entries = [nueva_ent]\n",
    "    extra[k][\"bibtex\"] = \"{%% raw %%} %s {%% endraw %%}\"%bibtexparser.dumps(nueva_bd).rstrip()\n",
    "    authors_feos = bibentry.rich_fields.get('author')\n",
    "    #print(authors_feos)\n",
    "    authors = [ ]\n",
    "    for aut in authors_feos.split(\"and\"):\n",
    "        surname, name = aut.split(\",\")\n",
    "        nombre_bien = str(name).replace(\" \",\"\")+\" \"+str(surname).replace(\" \",\"\")\n",
    "        if nombre_bien == \"Gonzalo Mateo-García\":\n",
    "            nombre_bien  = \"<u>%s</u>\"%nombre_bien\n",
    "        authors.append(nombre_bien)\n",
    "    extra[k][\"authors\"] = \", \".join(authors[:-1])+\" and \"+authors[-1]\n",
    "    year_month = bibentry.fields[\"year\"]+\" \"+bibentry.fields[\"month\"]\n",
    "    dat = datetime.strptime(year_month+\" 01\",\"%Y %B %d\")\n",
    "    extra[k][\"date\"] = dat\n",
    "    \n",
    "extra\n",
    "    "
   ]
  },
  {
   "cell_type": "code",
   "execution_count": null,
   "metadata": {},
   "outputs": [],
   "source": []
  },
  {
   "cell_type": "code",
   "execution_count": 15,
   "metadata": {},
   "outputs": [
    {
     "data": {
      "text/html": [
       "<a href='http://localhost:4000/publications/index_2.html' target='blank'>link</a>"
      ],
      "text/plain": [
       "<IPython.core.display.HTML object>"
      ]
     },
     "metadata": {},
     "output_type": "display_data"
    }
   ],
   "source": [
    "import jinja2\n",
    "import os\n",
    "\n",
    "ordered_keys = sorted(extra.keys(),key=lambda k: extra[k][\"date\"],reverse=True)\n",
    "extra[\"mateo-garcia_convolutional_2017\"][\"slides\"] = \"https://www.dropbox.com/s/v5mf77lcbzeqq35/1640_cnn_MateoGarcia.pdf?raw=1\"\n",
    "extra[\"mateo-garcia_cloud_2017\"][\"poster\"] = \"https://www.dropbox.com/s/mzx83weuvqpsalv/conference_poster_6.pdf?raw=1\"\n",
    "extra[\"mateo-garcia_advances_2017\"][\"poster\"] = \"https://www.dropbox.com/s/or8l3r15i8unvgx/conference_poster_6.pdf?raw=1\"\n",
    "\n",
    "def get_template(tpl_path):\n",
    "    path, filename = os.path.split(tpl_path)\n",
    "    return jinja2.Environment(\n",
    "        loader=jinja2.FileSystemLoader(path or './')\n",
    "    ).get_template(filename)\n",
    "\n",
    "tpl = get_template(\"template_pubs.tpl\")\n",
    "\n",
    "with open(\"index_2.html\", \"w\") as s:\n",
    "    tpl.stream(extra=extra,ordered_keys=ordered_keys,absolute_rel_path=\"\").dump(s)\n",
    "\n",
    "display(HTML(\"<a href='http://localhost:4000/publications/index_2.html' target='blank'>link</a>\"))\n"
   ]
  },
  {
   "cell_type": "code",
   "execution_count": null,
   "metadata": {},
   "outputs": [],
   "source": []
  }
 ],
 "metadata": {
  "kernelspec": {
   "display_name": "Python 3",
   "language": "python",
   "name": "python3"
  },
  "language_info": {
   "codemirror_mode": {
    "name": "ipython",
    "version": 3
   },
   "file_extension": ".py",
   "mimetype": "text/x-python",
   "name": "python",
   "nbconvert_exporter": "python",
   "pygments_lexer": "ipython3",
   "version": "3.6.4"
  },
  "widgets": {
   "state": {},
   "version": "1.1.2"
  }
 },
 "nbformat": 4,
 "nbformat_minor": 2
}
