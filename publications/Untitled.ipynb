{
 "cells": [
  {
   "cell_type": "code",
   "execution_count": 1,
   "metadata": {},
   "outputs": [
    {
     "data": {
      "text/html": [
       "<a href='https://www.spiedigitallibrary.org/journals/Journal-of-Applied-Remote-Sensing/volume-11/issue-1/015005/Cloud-masking-and-removal-in-remote-sensing-image-time-series/10.1117/1.JRS.11.015005.short'>[Gómez-Chova et al. 2017]</a>:</br><a href='\\url{http://arxiv.org/abs/1710.05578}'>[Pérez-Suay et al. 2017]</a>:</br><a href='http://ipl.uv.es/raqrs/'>[Mateo-García et al. 2017]</a>:</br>"
      ],
      "text/plain": [
       "<IPython.core.display.HTML object>"
      ]
     },
     "execution_count": 1,
     "metadata": {},
     "output_type": "execute_result"
    }
   ],
   "source": [
    "from IPython.display import HTML\n",
    "from pybtex.database.input import bibtex\n",
    "parser = bibtex.Parser()\n",
    "bib_data = parser.parse_file('pubs.bib')\n",
    "\n",
    "def make_cita(bibentry):\n",
    "    text_latex = bibentry.rich_fields.get('author')\n",
    "    persons_print =[person.split(\",\")[0] for person in str(text_latex).split(\"and \")]\n",
    "    #print(persons_print,len(persons_print))\n",
    "    if len(persons_print)==1:\n",
    "        cita = persons_print[0]\n",
    "    elif len(persons_print)==2:\n",
    "        cita = \" and \".join(persons_print) \n",
    "    else:\n",
    "        cita = persons_print[0]+\" et al.\"\n",
    "\n",
    "    cita+=\" \"+ str(bibentry.rich_fields.get('year'))\n",
    "    return cita\n",
    "\n",
    "string = \"\"\n",
    "for bibentry_key in sorted(bib_data.entries.keys(),key=lambda x: bib_data.entries[x].fields[\"year\"]):\n",
    "    bibentry = bib_data.entries[bibentry_key]\n",
    "    # bibentry.rich_fields.get('title')\n",
    "    #print(make_cita(bibentry),\"--->\",nombres[bibentry_key])\n",
    "    if \"url\" in bibentry.fields:\n",
    "        string+=\"<a href='%s'>[%s]</a>:</br>\"%(bibentry.fields[\"url\"],make_cita(bibentry))\n",
    "\n",
    "HTML(string)"
   ]
  },
  {
   "cell_type": "code",
   "execution_count": 2,
   "metadata": {},
   "outputs": [
    {
     "data": {
      "text/plain": [
       "'2017'"
      ]
     },
     "execution_count": 2,
     "metadata": {},
     "output_type": "execute_result"
    }
   ],
   "source": [
    "bibentry.fields[\"year\"]"
   ]
  },
  {
   "cell_type": "code",
   "execution_count": 3,
   "metadata": {},
   "outputs": [
    {
     "name": "stdout",
     "output_type": "stream",
     "text": [
      "Cloud masking and removal in remote sensing image time series\n",
      "Gómez-Chova, Luis and Amorós-López, Julia and Mateo-García, Gonzalo and Muñoz-Marí, Jordi and Camps-Valls, Gustau\n",
      "Proba-V cloud detection Round Robin: Validation results and recommendations\n",
      "Iannone, R. Q. and Niro, F. and Goryl, P. and Dransfeld, S. and Hoersch, B. and Stelzer, K. and Kirches, G. and Paperin, M. and Brockmann, C. and Gómez-Chova, Luis and Mateo-García, Gonzalo and Preusker, R. and Fischer, J. and Amato, U. and Serio, C. and Gangkofner, U. and Berthelot, B. and Iordache, M. D. and Bertels, L. and Wolters, E. and Dierckx, W. and Benhadj, I. and Swinnen, E.\n",
      "Fair Kernel Learning\n",
      "Pérez-Suay, Adrián and Laparra, Valero and Mateo-García, Gonzalo and Muñoz-Marí, Jordi and Gómez-Chova, Luis and Camps-Valls, Gustau\n",
      "Cloud detection machine learning algorithms for PROBA-V\n",
      "Gómez-Chova, Luis and Mateo-García, Gonzalo and Muñoz-Marí, Jordi and Camps-Valls, Gustau\n",
      "Advances in statistical cloud screening: the Proba-V case study\n",
      "Mateo-García, Gonzalo and Gómez-Chova, Luis and Muñoz-Marí, Jordi and Camps-Valls, Gustau\n",
      "Cloud detection on the Google Earth Engine platform\n",
      "Mateo-García, Gonzalo and Muñoz-Marí, Jordi and Gómez-Chova, Luis\n",
      "Convolutional Neural Networks for Multispectral Image Cloud Masking\n",
      "Mateo-García, Gonzalo and Gómez-Chova, Luis and Camps-Valls, Gustau\n"
     ]
    }
   ],
   "source": [
    "for bibentry_key in sorted(bib_data.entries.keys(),key=lambda x: bib_data.entries[x].fields[\"year\"]):\n",
    "    bibentry = bib_data.entries[bibentry_key]\n",
    "    print(bibentry.rich_fields.get('title'))\n",
    "    print(bibentry.rich_fields.get('author'))\n",
    "    "
   ]
  },
  {
   "cell_type": "code",
   "execution_count": null,
   "metadata": {},
   "outputs": [],
   "source": []
  },
  {
   "cell_type": "code",
   "execution_count": 4,
   "metadata": {},
   "outputs": [],
   "source": [
    "import bibtexparser\n",
    "\n",
    "with open('pubs.bib') as bibtex_file:\n",
    "    bib_database = bibtexparser.load(bibtex_file)\n"
   ]
  },
  {
   "cell_type": "code",
   "execution_count": null,
   "metadata": {},
   "outputs": [],
   "source": []
  },
  {
   "cell_type": "code",
   "execution_count": null,
   "metadata": {},
   "outputs": [],
   "source": [
    "nueva_bd = bibtexparser.bibdatabase.BibDatabase()\n",
    "nueva_bd.entries = [copia]\n",
    "bibtexparser.dumps(nueva_bd)"
   ]
  },
  {
   "cell_type": "code",
   "execution_count": 7,
   "metadata": {},
   "outputs": [
    {
     "data": {
      "text/plain": [
       "{'gomez-chova_cloud_2017': '@article{gomez-chova_cloud_2017,\\n author = {Gómez-Chova, Luis and Amorós-López, Julia and Mateo-García, Gonzalo and Muñoz-Marí, Jordi and Camps-Valls, Gustau},\\n copyright = {All rights reserved},\\n doi = {10.1117/1.JRS.11.015005},\\n issn = {1931-3195, 1931-3195},\\n journal = {Journal of Applied Remote Sensing},\\n link = {https://www.spiedigitallibrary.org/journals/Journal-of-Applied-Remote-Sensing/volume-11/issue-1/015005/Cloud-masking-and-removal-in-remote-sensing-image-time-series/10.1117/1.JRS.11.015005.short},\\n month = {jan},\\n number = {1},\\n pages = {015005},\\n title = {Cloud masking and removal in remote sensing image time series},\\n urldate = {2017-10-09},\\n volume = {11},\\n year = {2017}\\n}\\n\\n',\n",
       " 'gomez-chova_cloud_2017-1': '@inproceedings{gomez-chova_cloud_2017-1,\\n author = {Gómez-Chova, Luis and Mateo-García, Gonzalo and Muñoz-Marí, Jordi and Camps-Valls, Gustau},\\n booktitle = {2017 {IEEE} {International} {Geoscience} and {Remote} {Sensing} {Symposium} ({IGARSS})},\\n copyright = {All rights reserved},\\n month = {jul},\\n title = {Cloud detection machine learning algorithms for {PROBA}-{V}},\\n year = {2017}\\n}\\n\\n',\n",
       " 'iannone_proba-v_2017': '@inproceedings{iannone_proba-v_2017,\\n author = {Iannone, R. Q. and Niro, F. and Goryl, P. and Dransfeld, S. and Hoersch, B. and Stelzer, K. and Kirches, G. and Paperin, M. and Brockmann, C. and Gómez-Chova, Luis and Mateo-García, Gonzalo and Preusker, R. and Fischer, J. and Amato, U. and Serio, C. and Gangkofner, U. and Berthelot, B. and Iordache, M. D. and Bertels, L. and Wolters, E. and Dierckx, W. and Benhadj, I. and Swinnen, E.},\\n booktitle = {2017 9th {International} {Workshop} on the {Analysis} of {Multitemporal} {Remote} {Sensing} {Images} ({MultiTemp})},\\n copyright = {All rights reserved},\\n doi = {10.1109/Multi-Temp.2017.8035219},\\n keyword = {atmospheric techniques, Cloud Detection Algorithm, cloud detection approaches, cloud masking, cloud optical thickness, clouds, Clouds, Detection algorithms, discriminant analysis, downstream geophysical products, environmental conditions, European countries, Land surface, MODIS, multispectral thresholding, multitextural thresholding, neural network, Proba-V, Proba-V cloud detection algorithm, Proba-V cloud detection Round Robin, Proba-V level 2a products, Reflectivity, remote sensing, Round robin, Round Robin, satellite optical remote sensing, Satellites, self-organizing feature maps, spectral bands, surface types, thermal infrared bands},\\n month = {jun},\\n pages = {1--8},\\n shorttitle = {Proba-{V} cloud detection {Round} {Robin}},\\n title = {Proba-{V} cloud detection {Round} {Robin}: {Validation} results and recommendations},\\n year = {2017}\\n}\\n\\n',\n",
       " 'mateo-garcia_advances_2017': \"@inproceedings{mateo-garcia_advances_2017,\\n author = {Mateo-García, Gonzalo and Gómez-Chova, Luis and Muñoz-Marí, Jordi and Camps-Valls, Gustau},\\n booktitle = {Vth {International} {Symposium}: {Recent} {Advances} in {Quantitative} {Remote} {Sensing}, {Sept} 2017, ({RAQRS} '17)},\\n copyright = {All rights reserved},\\n link = {http://ipl.uv.es/raqrs/},\\n month = {jul},\\n title = {Advances in statistical cloud screening: the {Proba}-{V} case study},\\n year = {2017}\\n}\\n\\n\",\n",
       " 'mateo-garcia_cloud_2017': '@inproceedings{mateo-garcia_cloud_2017,\\n author = {Mateo-García, Gonzalo and Muñoz-Marí, Jordi and Gómez-Chova, Luis},\\n booktitle = {2017 {IEEE} {International} {Geoscience} and {Remote} {Sensing} {Symposium} ({IGARSS})},\\n copyright = {All rights reserved},\\n month = {jul},\\n title = {Cloud detection on the {Google} {Earth} {Engine} platform},\\n year = {2017}\\n}\\n\\n',\n",
       " 'mateo-garcia_convolutional_2017': '@inproceedings{mateo-garcia_convolutional_2017,\\n author = {Mateo-García, Gonzalo and Gómez-Chova, Luis and Camps-Valls, Gustau},\\n booktitle = {2017 {IEEE} {International} {Geoscience} and {Remote} {Sensing} {Symposium} ({IGARSS})},\\n copyright = {All rights reserved},\\n month = {jul},\\n title = {Convolutional {Neural} {Networks} for {Multispectral} {Image} {Cloud} {Masking}},\\n year = {2017}\\n}\\n\\n',\n",
       " 'perez-suay_fair_2017': '@inproceedings{perez-suay_fair_2017,\\n author = {Pérez-Suay, Adrián and Laparra, Valero and Mateo-García, Gonzalo and Muñoz-Marí, Jordi and Gómez-Chova, Luis and Camps-Valls, Gustau},\\n booktitle = {2017 {European} {Conference} on {Machine} {Learning} ({ECML})},\\n copyright = {All rights reserved},\\n keyword = {Statistics - Machine Learning},\\n link = {\\\\url{http://arxiv.org/abs/1710.05578}},\\n month = {sep},\\n note = {arXiv: 1710.05578},\\n title = {Fair {Kernel} {Learning}},\\n urldate = {2017-12-01},\\n year = {2017}\\n}\\n\\n'}"
      ]
     },
     "execution_count": 7,
     "metadata": {},
     "output_type": "execute_result"
    }
   ],
   "source": [
    "nuevo = dict()\n",
    "abstracts = dict()\n",
    "for k,v in bib_database.entries_dict.items():\n",
    "    nueva_ent = dict(v)\n",
    "    abstracts[k] = v[\"abstract\"]\n",
    "    nueva_ent.pop(\"abstract\")\n",
    "    nueva_bd = bibtexparser.bibdatabase.BibDatabase()\n",
    "    nueva_bd.entries = [nueva_ent]\n",
    "    nuevo[k] = bibtexparser.dumps(nueva_bd)    \n",
    "    \n",
    "nuevo\n",
    "    "
   ]
  },
  {
   "cell_type": "code",
   "execution_count": 8,
   "metadata": {},
   "outputs": [
    {
     "name": "stdout",
     "output_type": "stream",
     "text": [
      "False\n"
     ]
    },
    {
     "data": {
      "text/plain": [
       "'The vast amount of data acquired by current high resolution Earth observation satellites implies some technical challenges to be faced. Google Earth Engine (GEE) platform provides a framework for the development of algorithms and products built over this data in an easy and scalable manner. In this paper, we take advantage of the GEE platform capabilities to exploit the wealth of information in the temporal dimension by processing a long time series of satellite images. A cloud detection algorithm for Landsat-8, which uses previous images of the same location to detect clouds, is implemented and tested on the GEE platform.'"
      ]
     },
     "execution_count": 8,
     "metadata": {},
     "output_type": "execute_result"
    }
   ],
   "source": [
    "abst = bib_data.entries['mateo-garcia_cloud_2017'].fields.get(\"abstract\")\n",
    "print(\"\\n\" in abst)\n",
    "abst.replace(\"\\n\",\"<br/>\")\n"
   ]
  },
  {
   "cell_type": "code",
   "execution_count": 9,
   "metadata": {},
   "outputs": [
    {
     "data": {
      "text/html": [
       "<a href='http://localhost:4000/publications/index_2.html' target='blank'>link</a>"
      ],
      "text/plain": [
       "<IPython.core.display.HTML object>"
      ]
     },
     "metadata": {},
     "output_type": "display_data"
    }
   ],
   "source": [
    "import jinja2\n",
    "import os\n",
    "\n",
    "def get_template(tpl_path):\n",
    "    path, filename = os.path.split(tpl_path)\n",
    "    return jinja2.Environment(\n",
    "        loader=jinja2.FileSystemLoader(path or './')\n",
    "    ).get_template(filename)\n",
    "\n",
    "tpl = get_template(\"template_pubs.tpl\")\n",
    "\n",
    "with open(\"index_2.html\", \"w\") as s:\n",
    "    tpl.stream(bib_data=bib_data,extra=nuevo,abstracts=abstracts,absolute_rel_path=\"\").dump(s)\n",
    "\n",
    "display(HTML(\"<a href='http://localhost:4000/publications/index_2.html' target='blank'>link</a>\"))\n"
   ]
  }
 ],
 "metadata": {
  "kernelspec": {
   "display_name": "Python 3",
   "language": "python",
   "name": "python3"
  },
  "language_info": {
   "codemirror_mode": {
    "name": "ipython",
    "version": 3
   },
   "file_extension": ".py",
   "mimetype": "text/x-python",
   "name": "python",
   "nbconvert_exporter": "python",
   "pygments_lexer": "ipython3",
   "version": "3.6.2"
  }
 },
 "nbformat": 4,
 "nbformat_minor": 2
}
