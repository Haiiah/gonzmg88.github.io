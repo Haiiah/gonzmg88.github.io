{
 "cells": [
  {
   "cell_type": "code",
   "execution_count": 17,
   "metadata": {},
   "outputs": [
    {
     "data": {
      "text/html": [
       "<a href='https://www.dropbox.com/s/jrkwu0853xeleap/TFM_Definitivo.pdf'>[Mateo-García 2012]</a></br><a href='https://www.spiedigitallibrary.org/journals/Journal-of-Applied-Remote-Sensing/volume-11/issue-1/015005/Cloud-masking-and-removal-in-remote-sensing-image-time-series/10.1117/1.JRS.11.015005.short'>[Gómez-Chova et al. 2017]</a></br><a href='http://ipl.uv.es/raqrs/'>[Mateo-García et al. 2017]</a></br>[Iannone et al. 2017]</br>[Munoz-Mari et al. 2017]</br><a href='https://link.springer.com/chapter/10.1007/978-3-319-71249-9_21'>[Pérez-Suay et al. 2017]</a></br>[Gómez-Chova et al. 2017]</br>[Mateo-García et al. 2017]</br>[Mateo-García et al. 2017]</br>[Mateo-García and Gómez-Chova 2018]</br>[Mateo-García et al. 2018]</br>[Bruescas et al. 2018]</br><a href='http://www.mdpi.com/2072-4292/10/5/786'>[Ruescas et al. 2018]</a></br><a href='http://www.mdpi.com/2072-4292/10/7/1079'>[Mateo-García et al. 2018]</a></br>"
      ],
      "text/plain": [
       "<IPython.core.display.HTML object>"
      ]
     },
     "execution_count": 17,
     "metadata": {},
     "output_type": "execute_result"
    }
   ],
   "source": [
    "from IPython.display import HTML,display\n",
    "import bibtexparser\n",
    "from pybtex.database.input import bibtex\n",
    "\n",
    "filebib = 'pubs.bib'\n",
    "parser = bibtex.Parser()\n",
    "bib_data = parser.parse_file(filebib)\n",
    "\n",
    "with open(filebib) as bibtex_file:\n",
    "    bib_database = bibtexparser.load(bibtex_file)\n",
    "\n",
    "def make_cita(bibentry):\n",
    "    text_latex = bibentry.rich_fields.get('author')\n",
    "    persons_print =[person.split(\",\")[0] for person in str(text_latex).split(\"and \")]\n",
    "    #print(persons_print,len(persons_print))\n",
    "    if len(persons_print)==1:\n",
    "        cita = persons_print[0]\n",
    "    elif len(persons_print)==2:\n",
    "        cita = \" and \".join(persons_print) \n",
    "    else:\n",
    "        cita = persons_print[0]+\" et al.\"\n",
    "\n",
    "    cita+=\" \"+ str(bibentry.rich_fields.get('year'))\n",
    "    return cita\n",
    "\n",
    "string = \"\"\n",
    "for bibentry_key in sorted(bib_data.entries.keys(),key=lambda x: bib_data.entries[x].fields[\"year\"]):\n",
    "    bibentry = bib_data.entries[bibentry_key]\n",
    "    # bibentry.rich_fields.get('title')\n",
    "    #print(make_cita(bibentry),\"--->\",nombres[bibentry_key])\n",
    "    if \"url\" in bibentry.fields:\n",
    "        string+=\"<a href='%s'>[%s]</a></br>\"%(bibentry.fields[\"url\"],make_cita(bibentry))\n",
    "    else:\n",
    "        string+=\"[%s]</br>\"%(make_cita(bibentry))\n",
    "            \n",
    "\n",
    "HTML(string)"
   ]
  },
  {
   "cell_type": "code",
   "execution_count": 18,
   "metadata": {},
   "outputs": [
    {
     "name": "stdout",
     "output_type": "stream",
     "text": [
      "gomez-chova_cloud_2017\n",
      "mateo-garcia_advances_2017\n",
      "iannone_proba-v_2017\n",
      "munoz-mari_hyperlabelme_2017\n",
      "perez-suay_fair_2017\n",
      "mateo-garcia_convolutional_2018\n",
      "gomez-chova_cloud_2017-1\n",
      "mateo-garcia_cloud_2017\n",
      "mateo-garcia_convolutional_2017\n",
      "mateo-garcia_optimizing_2018\n",
      "bruescas_retrieval_2018\n",
      "ruescas_machine_2018\n",
      "mateo-garcia_multitemporal_2018\n",
      "mateo-garcia_master_2012\n"
     ]
    }
   ],
   "source": [
    "from datetime import datetime\n",
    "\n",
    "extra = dict()\n",
    "for k,v in bib_database.entries_dict.items():\n",
    "    bibentry = bib_data.entries[k]\n",
    "    nueva_ent = dict(v)\n",
    "    print(k)\n",
    "    extra[k] = dict()\n",
    "    extra[k][\"abstract\"] = v[\"abstract\"]\n",
    "    extra[k][\"title\"] = bibentry.rich_fields.get('title')\n",
    "    \n",
    "    copyifkeys = [\"journal\",\"url\",\"doi\",\"booktitle\"]\n",
    "    for ci in copyifkeys:  \n",
    "        if ci in bibentry.fields:\n",
    "            extra[k][ci] = bibentry.rich_fields.get(ci)\n",
    "    \n",
    "    \n",
    "    nueva_ent.pop(\"abstract\")\n",
    "    nueva_bd = bibtexparser.bibdatabase.BibDatabase()\n",
    "    if \"file\" in nueva_ent:\n",
    "        nueva_ent.pop(\"file\")\n",
    "    nueva_bd.entries = [nueva_ent]\n",
    "    extra[k][\"bibtex\"] = \"{%% raw %%} %s {%% endraw %%}\"%bibtexparser.dumps(nueva_bd).rstrip()\n",
    "    authors_feos = bibentry.rich_fields.get('author')\n",
    "    #print(authors_feos)\n",
    "    authors = [ ]\n",
    "    for aut in authors_feos.split(\"and\"):\n",
    "        surname, name = aut.split(\",\")\n",
    "        nombre_bien = str(name).replace(\" \",\"\")+\" \"+str(surname).replace(\" \",\"\")\n",
    "        if (nombre_bien == \"Gonzalo Mateo-Garcia\") or (nombre_bien == \"Gonzalo Mateo-García\") or (nombre_bien == \"G. Mateo-García\") or (nombre_bien == \"G. Mateo-Garcia\"):\n",
    "            nombre_bien  = \"<u>%s</u>\"%nombre_bien\n",
    "        authors.append(nombre_bien)\n",
    "    extra[k][\"authors\"] = \", \".join(authors[:-1])+\" and \"+authors[-1]\n",
    "    year_month = bibentry.fields[\"year\"]+\" \"+bibentry.fields[\"month\"]\n",
    "    dat = datetime.strptime(year_month+\" 01\",\"%Y %B %d\")\n",
    "    extra[k][\"date\"] = dat\n",
    "    \n",
    "# extra\n",
    "    "
   ]
  },
  {
   "cell_type": "code",
   "execution_count": 19,
   "metadata": {},
   "outputs": [
    {
     "data": {
      "text/html": [
       "<a href='http://localhost:4000/publications/index.html' target='blank'>link</a>"
      ],
      "text/plain": [
       "<IPython.core.display.HTML object>"
      ]
     },
     "metadata": {},
     "output_type": "display_data"
    }
   ],
   "source": [
    "import jinja2\n",
    "import os\n",
    "\n",
    "ordered_keys = sorted(extra.keys(),key=lambda k: extra[k][\"date\"],reverse=True)\n",
    "extra[\"mateo-garcia_convolutional_2017\"][\"slides\"] = \"https://www.dropbox.com/s/v5mf77lcbzeqq35/1640_cnn_MateoGarcia.pdf?raw=1\"\n",
    "extra[\"mateo-garcia_convolutional_2018\"][\"slides\"] = \"https://www.dropbox.com/s/pjl7uj0b88w7l03/cnn_probav_igarss.pdf?raw=1\"\n",
    "extra[\"mateo-garcia_optimizing_2018\"][\"slides\"] = \"https://www.dropbox.com/s/k6gsnm0vi5t6qjm/OKRR_IGARSS18.pdf?raw=1\"\n",
    "extra[\"mateo-garcia_cloud_2017\"][\"poster\"] = \"https://www.dropbox.com/s/mzx83weuvqpsalv/conference_poster_6.pdf?raw=1\"\n",
    "extra[\"mateo-garcia_advances_2017\"][\"poster\"] = \"https://www.dropbox.com/s/or8l3r15i8unvgx/conference_poster_6.pdf?raw=1\"\n",
    "extra[\"mateo-garcia_master_2012\"][\"journal\"] = \"Master Thesis\"\n",
    "extra[\"mateo-garcia_optimizing_2018\"][\"code\"] = \"https://github.com/gonzmg88/obfkrr\"\n",
    "extra[\"mateo-garcia_multitemporal_2018\"][\"code\"] = \"https://github.com/IPL-UV/ee_ipl_uv\"\n",
    "extra[\"mateo-garcia_multitemporal_2018\"][\"visualization\"] = \"http://isp.uv.es/projects/cdc/viewer_l8_GEE.html\"\n",
    "extra[\"gomez-chova_cloud_2017\"][\"code\"] = \"https://github.com/IPL-UV/ee_ipl_uv\"\n",
    "extra[\"gomez-chova_cloud_2017\"][\"visualization\"] = \"http://isp.uv.es/projects/cdc/GEE_cloud_detection_results.html\"\n",
    "extra[\"mateo-garcia_cloud_2017\"][\"code\"] = \"https://github.com/IPL-UV/ee_ipl_uv\"\n",
    "extra[\"bruescas_retrieval_2018\"][\"code\"] = \"https://github.com/IPL-UV/mlregocean\"\n",
    "extra[\"ruescas_machine_2018\"][\"code\"] = \"https://github.com/IPL-UV/mlregocean\"\n",
    "\n",
    "\n",
    "def get_template(tpl_path):\n",
    "    path, filename = os.path.split(tpl_path)\n",
    "    return jinja2.Environment(\n",
    "        loader=jinja2.FileSystemLoader(path or './')\n",
    "    ).get_template(filename)\n",
    "\n",
    "tpl = get_template(\"template_pubs.tpl\")\n",
    "\n",
    "with open(\"index.html\", \"w\") as s:\n",
    "    tpl.stream(extra=extra,ordered_keys=ordered_keys,absolute_rel_path=\"\").dump(s)\n",
    "\n",
    "display(HTML(\"<a href='http://localhost:4000/publications/index.html' target='blank'>link</a>\"))\n"
   ]
  },
  {
   "cell_type": "code",
   "execution_count": null,
   "metadata": {},
   "outputs": [],
   "source": []
  }
 ],
 "metadata": {
  "kernelspec": {
   "display_name": "Python 3",
   "language": "python",
   "name": "python3"
  },
  "language_info": {
   "codemirror_mode": {
    "name": "ipython",
    "version": 3
   },
   "file_extension": ".py",
   "mimetype": "text/x-python",
   "name": "python",
   "nbconvert_exporter": "python",
   "pygments_lexer": "ipython3",
   "version": "3.6.4"
  },
  "widgets": {
   "state": {},
   "version": "1.1.2"
  }
 },
 "nbformat": 4,
 "nbformat_minor": 2
}
