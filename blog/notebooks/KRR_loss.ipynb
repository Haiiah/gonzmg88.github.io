{
 "cells": [
  {
   "cell_type": "markdown",
   "metadata": {},
   "source": [
    "Mean squared error obtained in KRR in the training points:\n",
    "\n",
    "$$\n",
    "\\require{cancel}\n",
    "\\begin{aligned}\n",
    "\\frac{1}{N} \\|\\hat{y} - y \\|^2 &= \\frac{1}{N}\\| K\\alpha - y \\|^2 =  \\\\\n",
    "&=\\frac{1}{N} \\| K(K + \\sigma^2 I)^{-1}y - y \\|^2 = \\\\\n",
    "&=\\frac{1}{N} \\| K(K + \\sigma^2 I)^{-1}y - y \\|^2 = \\\\\n",
    "&=\\frac{1}{N} \\| \\cancel{(K + \\sigma^2 I)(K + \\sigma^2 I)^{-1}y} - (\\sigma^2 I)(K + \\sigma^2 I)^{-1}y - \\cancel{y} \\|^2 = \\\\\n",
    "&= \\frac{\\sigma^4}{N} \\| (K + \\sigma^2 I)^{-1}y \\|^2 \\\\\n",
    "&= \\frac{\\sigma^4}{N} y^t(K + \\sigma^2 I)^{-2}y  \\\\\n",
    "&= \\frac{\\sigma^4}{N} \\| \\alpha \\|^2\n",
    "\\end{aligned}\n",
    "$$"
   ]
  },
  {
   "cell_type": "markdown",
   "metadata": {},
   "source": [
    "The predictive variance of $\\mathcal{GP}s$ for the training points $\\mathcal{D}=(X,y)$ is:\n",
    "$$\n",
    "\\begin{aligned}\n",
    "Cov(\\hat{y}) &= K+\\sigma^2 I - \\left(K(K+\\sigma^2 I)^{-1} K \\right) \\\\\n",
    " &= K+\\sigma^2 I - \\left( (K+\\sigma^2 I - \\sigma^2 I )(K+\\sigma^2 I)^{-1} K \\right) \\\\\n",
    " &= K+\\sigma^2 I - \\left( \\cancel{(K+\\sigma^2 I)(K+\\sigma^2 I)^{-1}} K - \\sigma^2 I (K+\\sigma^2 I)^{-1} K \\right) \\\\\n",
    "  &= \\cancel{K}+\\sigma^2 I \\cancel{- K} + \\sigma^2 I (K+\\sigma^2 I)^{-1} (K+\\sigma^2 I - \\sigma^2 I)  \\\\\n",
    "  &= \\sigma^2 I + \\sigma^2 I \\cancel{(K+\\sigma^2 I)^{-1} (K+\\sigma^2 I)}  - \\sigma^2 I (K+\\sigma^2 I)^{-1}\\sigma^2 I   \\\\\n",
    "    &= 2\\sigma^2 I - \\sigma^2 I (K+\\sigma^2 I)^{-1}\\sigma^2 I   \\\\\n",
    "    &= 2\\sigma^2 I - \\sigma^4 (K+\\sigma^2 I)^{-1}   \\\\\n",
    "    &= 2\\sigma^2 \\left( I - \\frac{\\sigma^2}{2} (K+\\sigma^2 I)^{-1}\\right)   \\\\\n",
    "\\end{aligned}\n",
    "$$"
   ]
  },
  {
   "cell_type": "markdown",
   "metadata": {},
   "source": [
    "$$\n",
    "\\begin{aligned}\n",
    "\\left[Cov(\\hat{y})\\right]^{-1} &=  \\left( 2\\sigma^2 \\left( I - \\frac{\\sigma^2}{2} (K+\\sigma^2 I)^{-1}\\right) \\right)^{-1} \\\\\n",
    "&=   \\frac{1}{2\\sigma^2} \\left( I - \\frac{\\sigma^2}{2} (K+\\sigma^2 I)^{-1}\\right)^{-1} \\\\\n",
    "&=   \\frac{1}{2\\sigma^2} \\left(\\left( I - \\frac{\\sigma^2}{2} (K+\\sigma^2 I)^{-1}\\right)(K+\\sigma^2 I)(K+\\sigma^2 I)^{-1}\\right)^{-1} \\\\\n",
    "&=   \\frac{1}{2\\sigma^2} \\left(\\left( K+\\sigma^2 I - \\frac{\\sigma^2}{2} I\\right)(K+\\sigma^2 I)^{-1}\\right)^{-1} \\\\\n",
    "&=   \\frac{1}{2\\sigma^2} (K+\\sigma^2 I)\\left( K + \\frac{\\sigma^2}{2} I\\right)^{-1} \\\\\n",
    "&=   \\frac{1}{\\sigma^2} \\left(\\frac{K}{2}+\\frac{\\sigma^2}{2} I\\right)\\left( K + \\frac{\\sigma^2}{2} I\\right)^{-1} \\\\\n",
    "&=   \\frac{1}{\\sigma^2} \\left(\\frac{K}{2}+\\frac{K}{2} - \\frac{K}{2} +\\frac{\\sigma^2}{2} I\\right)\\left( K + \\frac{\\sigma^2}{2} I\\right)^{-1} \\\\\n",
    "&=   \\frac{1}{\\sigma^2} \\left(- \\frac{K}{2}+ K +\\frac{\\sigma^2}{2} I\\right)\\left( K + \\frac{\\sigma^2}{2} I\\right)^{-1} \\\\\n",
    "&=   \\frac{1}{\\sigma^2}\\left[ \\left(- \\frac{K}{2}\\right)\\left( K + \\frac{\\sigma^2}{2} I\\right)^{-1} + \\cancel{\\left(K +\\frac{\\sigma^2}{2} I\\right)\\left( K + \\frac{\\sigma^2}{2} I\\right)^{-1}}\\right] \\\\\n",
    "&=   \\frac{1}{\\sigma^2}\\left[ \\left(- \\frac{K}{2}\\right)\\left( K + \\frac{\\sigma^2}{2} I\\right)^{-1} + I\\right] \\\\\n",
    "\\end{aligned}\n",
    "$$"
   ]
  },
  {
   "cell_type": "markdown",
   "metadata": {},
   "source": [
    "Let's try to reduce the first matrix term: $K(K+\\lambda I)^{-1} = \\left((K)^{-1}\\right)^{-1}(K+\\lambda I)^{-1} =\\left((K+\\lambda I) K^{-1} \\right)^{-1} =\\left(I + \\lambda K^{-1}\\right)^{-1}$"
   ]
  }
 ],
 "metadata": {
  "kernelspec": {
   "display_name": "Python 3",
   "language": "python",
   "name": "python3"
  },
  "language_info": {
   "codemirror_mode": {
    "name": "ipython",
    "version": 3
   },
   "file_extension": ".py",
   "mimetype": "text/x-python",
   "name": "python",
   "nbconvert_exporter": "python",
   "pygments_lexer": "ipython3",
   "version": "3.6.2"
  }
 },
 "nbformat": 4,
 "nbformat_minor": 2
}
