{
 "cells": [
  {
   "cell_type": "markdown",
   "metadata": {},
   "source": [
    "## Variational free energy\n",
    "\n",
    "Let $f=\\{f^*,\\mathrm{f}\\}$ be the noise free latent variables of a $\\mathcal{GP}$. We write $\\mathrm{f}$ to be the latent variables where we have noisy observations $y$: $y_i = \\mathrm{f}_i + \\epsilon_i$ and $f^*$ the points where we want to have predictions. We want to approximate the true posterior: $q(f)\\approx p(f \\mid y)$. To do this we use the standard bound used in variational inference:\n",
    "\n",
    "$$\n",
    "\\begin{aligned}\n",
    "\\log p(y) &= \\overbrace{\\mathbb{E}_{q(f)}\\left[\\log \\frac{p(y,f)}{q(f)} \\right]}^{\\mathcal{L}(q)} \\overbrace{-\\mathbb{E}_{q(f)}\\left[\\log \\frac{p(f \\mid y)}{q(f)}\\right]}^{KL\\left[q \\mid\\mid p\\right]}\\\\\n",
    "&\\geq \\mathcal{L}(q)\n",
    "\\end{aligned}\n",
    "$$\n",
    "\n",
    "Thus, maximizing $\\mathcal{L}(q)$ is equivalent to minimizing the Kullback-Leiveck divergence between $q$ and the true posterior $p(f\\mid y)$. \n"
   ]
  },
  {
   "cell_type": "markdown",
   "metadata": {},
   "source": [
    "Let $u$ be a subset of $f^*$: $u \\subset f^*$. We will write $f$ as $f = \\{f^*,\\mathrm{f}, u\\}$. The bound $\\mathcal{L}$ can be decomposed as:\n",
    "\n",
    "$$\n",
    "\\require{cancel}\n",
    "\\begin{aligned}\n",
    "\\mathcal{L}(q) &= \\mathbb{E}_{q(f)}\\left[\\log \\frac{p(y\\mid f)p(f)}{q(f)} \\right] \\\\\n",
    "&= \\mathbb{E}_{q(f)}\\left[\\log \\frac{p(y\\mid \\mathrm{f}, \\cancel{f^*}, \\cancel{u})p(f^*, \\mathrm{f} \\mid u) p(u)}{q(f)} \\right] \n",
    "\\end{aligned}\n",
    "$$"
   ]
  },
  {
   "cell_type": "markdown",
   "metadata": {},
   "source": [
    "Notice that $p(f^*, \\mathrm{f} \\mid u)$ is the standard posterior of the $\\mathcal{GP}$ with noise free variables $u$:\n",
    "\n",
    "$$\n",
    "\\begin{aligned}\n",
    "p(f^*, \\mathrm{f} \\mid u) = \\mathcal{N}\\Big(\\begin{pmatrix} \\mathrm{f} \\\\ f^*  \\end{pmatrix} \\mid &\\begin{pmatrix} K_{\\mathrm{f}u} \\\\ K_{*u}\\end{pmatrix}K_{uu}^{-1}u,\\\\\n",
    "&\\begin{pmatrix} K_{\\mathrm{f}\\mathrm{f}} & K_{\\mathrm{f}*} \\\\\n",
    " K_{*\\mathrm{f}} & K_{**}\\end{pmatrix} - \\begin{pmatrix} Q_{\\mathrm{f}\\mathrm{f}} & Q_{\\mathrm{f}*}\\\\\n",
    " Q_{*\\mathrm{f}} & Q_{**}\\end{pmatrix} \\Big)\n",
    " \\end{aligned}\n",
    "$$"
   ]
  },
  {
   "cell_type": "markdown",
   "metadata": {},
   "source": [
    "We can also rewrite the true posterior $p(f\\mid y)$ using the subset $u$ of $f$:\n",
    "$$\n",
    "p(f\\mid y) = p(f^*, \\mathrm{f} \\mid u,y)p(u \\mid y)\n",
    "$$"
   ]
  },
  {
   "cell_type": "markdown",
   "metadata": {},
   "source": [
    "The Titsias approximation to the posterior chooses $q$ as:\n",
    "$$\n",
    "\\begin{aligned}\n",
    "q(f) &= p(f^*,\\mathrm{f} \\mid u) q(u)\n",
    "\\end{aligned}\n",
    "$$\n",
    "**This approximation removes the dependency on the data ($y$) in the first term**. The second term $q(u)$ is let free. \n",
    "\n",
    "Substituting this $q$ in the bound $\\mathcal{L}$ leads to:"
   ]
  },
  {
   "cell_type": "markdown",
   "metadata": {},
   "source": [
    "$$\n",
    "\\begin{aligned}\n",
    "\\require{cancel}\n",
    "\\mathcal{L}(q) &= \\mathbb{E}_{q(f)}\\left[\\log \\frac{p(y\\mid \\mathrm{f})\\cancel{p(f_{\\ne u} \\mid u)} p(u)}{\\cancel{p(f_{\\ne u} \\mid u)}q(u)}\\right] \\\\\n",
    "&= \\mathbb{E}_{q(f)}\\left[\\log p(y\\mid \\mathrm{f})\\right] + \\mathbb{E}_{p(f_{\\ne u} \\mid u)q(u)}\\left[\\log \\frac{p(u)}{q(u)}\\right] \\\\\n",
    "&= \\mathbb{E}_{q(f)}\\left[\\log p(y\\mid \\mathrm{f})\\right] + \\int \\int \\left[\\log \\frac{p(u)}{q(u)}\\right] p(f_{\\ne u} \\mid u)q(u) df_{\\ne u} du \\\\\n",
    "&= \\mathbb{E}_{q(f)}\\left[\\log p(y\\mid \\mathrm{f})\\right] + \\int \\left[\\log \\frac{p(u)}{q(u)}\\right] q(u) \\overbrace{\\left(\\int p(f_{\\ne u} \\mid u) df_{\\ne u} \\right)}^{=1}  du \\quad \\text{Trick (1)}\\\\\n",
    "&= \\mathbb{E}_{p(f^*, \\mathrm{f} \\mid u)q(u)}\\left[\\log p(y\\mid \\mathrm{f})\\right] + \\mathbb{E}_{q(u)}\\left[\\log \\frac{p(u)}{q(u)}\\right] \\\\\n",
    "&= \\mathbb{E}_{p(f^*\\mid \\mathrm{f} , u)p(\\mathrm{f} \\mid u)q(u)}\\left[\\log p(y\\mid \\mathrm{f})\\right] + KL\\left[q(u)\\mid\\mid p(u)\\right] \\\\\n",
    "&= \\mathbb{E}_{p(\\mathrm{f} \\mid u)q(u)}\\left[\\mathbb{E}_{p(f^*\\mid \\mathrm{f} , u)}\\left[\\log p(y\\mid \\mathrm{f})\\right]\\right] + KL\\left[q(u)\\mid\\mid p(u)\\right]\\quad \\text{Applying trick (1) to the first expectation}\\\\\n",
    "&= \\mathbb{E}_{p(\\mathrm{f} \\mid u)q(u)}\\left[\\log p(y\\mid \\mathrm{f})\\right] + KL\\left[q(u)\\mid\\mid p(u)\\right] \\\\\n",
    "&= \\mathbb{E}_{q(u)}\\left[\\mathbb{E}_{p(\\mathrm{f} \\mid u)}\\left[\\log p(y\\mid \\mathrm{f})\\right]\\right] + KL\\left[q(u)\\mid\\mid p(u)\\right] \\\\\n",
    "\\end{aligned}\n",
    "$$"
   ]
  },
  {
   "cell_type": "markdown",
   "metadata": {},
   "source": [
    "The integral $\\mathbb{E}_{p(\\mathrm{f} \\mid u)}\\left[\\log p(y \\mid \\mathrm{f})\\right]$ plays a central role in the derivation. Let's try to compute it:\n",
    "\n",
    "$$\n",
    "\\begin{aligned}\n",
    "\\mathbb{E}_{p(\\mathrm{f} \\mid u)}\\left[\\log p(y \\mid \\mathrm{f})\\right] &= \\mathbb{E}_{p(\\mathrm{f} \\mid u)}\\left[\\log \\mathcal{N}(y \\mid \\mathrm{f}, \\sigma^2 I)\\right] \\\\\n",
    "&= \\mathbb{E}_{p(\\mathrm{f} \\mid u)}\\left[\\log \\left( \\left(2\\pi \\sigma^{2N}\\right)^{-1/2} \\exp\\left(\\frac{-1}{2\\sigma^{2}} \\|y -\\mathrm{f}\\|^2\\right)\\right)\\right] \\\\\n",
    "&= \\mathbb{E}_{p(\\mathrm{f} \\mid u)}\\left[\\log \\left( \\left(2\\pi \\sigma^{2N}\\right)^{-1/2} \\right) + \\frac{-1}{2\\sigma^{2}} \\|y -\\mathrm{f}\\|^2\\right] \\\\\n",
    "&= \\log \\left( \\left(2\\pi \\sigma^{2N}\\right)^{-1/2} \\right) + \\mathbb{E}_{p(\\mathrm{f} \\mid u)}\\left[\\frac{-1}{2\\sigma^{2}} \\|y -\\mathrm{f}\\|^2\\right] \\\\\n",
    "&= \\log \\left( \\left(2\\pi \\sigma^{2N}\\right)^{-1/2} \\right) + \\frac{-1}{2\\sigma^{2}}\\mathbb{E}_{p(\\mathrm{f} \\mid u)}\\left[ \\left(\\|y\\|^2 + \\|\\mathrm{f}\\|^2   -2 y^t \\mathrm{f}\\right)\\right] \\\\\n",
    "&= \\log \\left( \\left(2\\pi \\sigma^{2N}\\right)^{-1/2} \\right) + \\frac{-1}{2\\sigma^{2}}\\left( \\|y\\|^2 + \\mathbb{E}_{p(\\mathrm{f} \\mid u)}\\left[\\|\\mathrm{f}\\|^2\\right]   -2 y^t \\mathbb{E}_{p(\\mathrm{f} \\mid u)}\\left[\\mathrm{f}\\right]\\right) \\\\\n",
    "\\end{aligned}\n",
    "$$"
   ]
  },
  {
   "cell_type": "markdown",
   "metadata": {},
   "source": [
    "Now the trick is to use that $p(\\mathrm{f} \\mid u) = \\mathcal{N}(\\mathrm{f} \\mid \\mu_u, \\mathrm{Cov}_u)$\n",
    "$$\n",
    "\\begin{aligned}\n",
    "\\mathbb{E}_{p(\\mathrm{f} \\mid u)}\\left[\\log p(y \\mid \\mathrm{f})\\right] &= \\log \\left( \\left(2\\pi \\sigma^{2N}\\right)^{-1/2} \\right) + \\frac{-1}{2\\sigma^{2}}\\left( y^t y + \\mathbb{E}_{p(\\mathrm{f} \\mid u)}\\left[\\mathrm{f}^t \\mathrm{f}\\right]   -2 y^t \\mu_u\\right) \\\\\n",
    "&= \\log \\left( \\left(2\\pi \\sigma^{2N}\\right)^{-1/2} \\right) + \\frac{-1}{2\\sigma^{2}}\\left( y^t y + \\mathbb{E}_{p(\\mathrm{f} \\mid u)}\\left[(\\mathrm{f}-\\mu_u)^t (\\mathrm{f}-\\mu_u) +2\\mu_u^t f - \\mu_u^t\\mu_u\\right]   -2 y^t \\mu_u\\right) \\\\\n",
    "&= \\log \\left( \\left(2\\pi \\sigma^{2N}\\right)^{-1/2} \\right) + \\frac{-1}{2\\sigma^{2}}\\left( y^t y + \\mathbb{E}_{p(\\mathrm{f} \\mid u)}\\left[(\\mathrm{f}-\\mu_u)^t (\\mathrm{f}-\\mu_u) \\right] +2\\mu_u^t \\mathbb{E}_{p(\\mathrm{f} \\mid u)}\\left[f\\right] - \\mu_u^t\\mu_u   -2 y^t \\mu_u\\right) \\\\\n",
    "&= \\log \\left( \\left(2\\pi \\sigma^{2N}\\right)^{-1/2} \\right) + \\frac{-1}{2\\sigma^{2}}\\left( y^t y + \\mathrm{trace}(\\mathrm{Cov}_u)  + \\mu_u^t\\mu_u   -2 y^t \\mu_u\\right) \\\\\n",
    "&= \\log \\left( \\left(2\\pi \\sigma^{2N}\\right)^{-1/2} \\right) + \\frac{-1}{2\\sigma^{2}}\\left\\| y - \\mu_u\\right\\|^2 + \\frac{-1}{2\\sigma^{2}}\\left(\\mathrm{trace}(\\mathrm{Cov}_u) \\right) \\\\\n",
    "&= \\log \\left( \\left(2\\pi \\sigma^{2N}\\right)^{-1/2} \\exp\\left(\\frac{-1}{2\\sigma^{2}}\\left\\| y - \\mu_u\\right\\|^2\\right)\\right) + \\frac{-1}{2\\sigma^{2}}\\left(\\mathrm{trace}(\\mathrm{Cov}_u) \\right) \\\\\n",
    "&= \\log \\left(\\mathcal{N}\\left(y \\mid \\mu_u, \\sigma^2 I\\right)\\right) + \\frac{-1}{2\\sigma^{2}}\\left(\\mathrm{trace}(\\mathrm{Cov}_u) \\right) \\\\\n",
    "&= \\log \\left(\\frac{-1}{2\\sigma^{2}}\\left(\\mathrm{trace}(\\mathrm{Cov}_u) \\right)\\mathcal{N}\\left(y \\mid \\mu_u, \\sigma^2 I\\right)\\right)  \n",
    "\\end{aligned}\n",
    "$$"
   ]
  },
  {
   "cell_type": "markdown",
   "metadata": {},
   "source": [
    "Let's restart again using Neil Lawrence derivation:\n",
    "$$\n",
    "\\begin{aligned}\n",
    "\\log p(y) &= \\log \\mathbb{E}_{p(u)}\\left[p(y \\mid u)\\right] \\\\\n",
    "% &= \\log \\mathbb{E}_{p(u)}\\left[\\mathbb{E}_{p(\\mathrm{f} \\mid u)}\\left[p(y\\mid \\mathrm{f},\\cancel{u})\\right]\\right] \\\\\n",
    "\\end{aligned}\n",
    "$$\n",
    "\n",
    "We can decompose $\\log p(y)$ using also the standard trick of variational inference:\n",
    "$$\n",
    "\\log p(y) = \\mathbb{E}_{p(u)}\\left[\\log p(y\\mid u)\\right] -  \\mathbb{E}_{p(u)}\\left[\\log \\frac{p(u \\mid y)}{p(u)}\\right]\n",
    "$$"
   ]
  },
  {
   "cell_type": "markdown",
   "metadata": {},
   "source": [
    "Instead of computing the bound on $p(y)$, we can compute the bound on $p(y \\mid u)$ which is:\n",
    "\n",
    "$$\n",
    "\\log p(y \\mid u) = \\overbrace{\\mathbb{E}_{q(f^*,\\mathrm{f} \\mid u)}\\left[\\log \\frac{p(y,f^*,\\mathrm{f} \\mid u)}{q(f^*,\\mathrm{f} \\mid u)}\\right]}^{\\mathcal{L}\\left(q(f^*,\\mathrm{f} \\mid u)\\right)}  \\overbrace{-\\mathbb{E}_{q(f^*,\\mathrm{f} \\mid u)}\\left[\\log \\frac{p(f^*,\\mathrm{f} \\mid y,u)}{q(f^*,\\mathrm{f} \\mid u)}\\right]}^{KL\\left(q(f^*,\\mathrm{f} \\mid u) \\mid \\mid p(f^*,\\mathrm{f} \\mid u,y)\\right)}\n",
    "$$\n",
    "\n",
    "If we use here the Titsias approximation $q(f^*,\\mathrm{f} \\mid u) = p(f^*,\\mathrm{f} \\mid u)$. We find that:\n",
    "$$\n",
    "\\begin{aligned}\n",
    "\\mathcal{L}\\left(q(f^*,\\mathrm{f} \\mid u)\\right) &= \\mathbb{E}_{p(\\mathrm{f} \\mid u)}\\left[\\log p(y \\mid \\mathrm{f})\\right]:= \\mathcal{L}_1 \\\\\n",
    "KL\\left(q(f^*,\\mathrm{f} \\mid u) \\mid \\mid p(f^*,\\mathrm{f} \\mid u,y)\\right) &= -\\mathbb{E}_{p(f^*,\\mathrm{f} \\mid u)}\\left[\\log \\frac{p(f^*,\\mathrm{f} \\mid y,u)}{p(f^*,\\mathrm{f} \\mid u)}\\right] \\\\\n",
    "&= KL\\left(p(f^*,\\mathrm{f} \\mid u) \\mid \\mid p(f^*,\\mathrm{f} \\mid u,y)\\right)\n",
    "\\end{aligned}\n",
    "$$\n"
   ]
  },
  {
   "cell_type": "markdown",
   "metadata": {},
   "source": [
    "We can apply this decomposition to $\\log p(y)$:\n",
    "$$\n",
    "\\begin{aligned}\n",
    "\\log p(y) &= \\log \\mathbb{E}_{p(u)}\\left[p(y \\mid u)\\right] \\\\\n",
    "&= \\log \\mathbb{E}_{p(u)}\\left[\\exp\\left(\\mathcal{L}_1 + KL\\left(p(f^*,\\mathrm{f} \\mid u) \\mid \\mid p(f^*,\\mathrm{f} \\mid u,y)\\right)\\right)\\right] \\\\\n",
    "&= \\log \\mathbb{E}_{p(u)}\\left[\\exp\\left(\\mathcal{L}_1\\right)\\exp\\left(KL\\left(p(f^*,\\mathrm{f} \\mid u) \\mid \\mid p(f^*,\\mathrm{f} \\mid u,y)\\right)\\right)\\right] \\\\\n",
    "\\end{aligned}\n",
    "$$"
   ]
  },
  {
   "cell_type": "markdown",
   "metadata": {},
   "source": [
    "We can also apply this decomposition in the variational inference decomposition of $\\log p(y)$:\n",
    "$$\n",
    "\\begin{aligned}\n",
    "\\log p(y) &= \\mathbb{E}_{p(u)}\\left[\\log p(y\\mid u)\\right] -  \\mathbb{E}_{p(u)}\\left[\\log \\frac{p(u \\mid y)}{p(u)}\\right] \\\\\n",
    "&= \\mathbb{E}_{p(u)}\\left[\\mathcal{L}_1 + KL\\left(p(f^*,\\mathrm{f} \\mid u) \\mid \\mid p(f^*,\\mathrm{f} \\mid u,y)\\right) \\right] -  \\mathbb{E}_{p(u)}\\left[\\log \\frac{p(u \\mid y)}{p(u)}\\right] \\\\\n",
    "&= \\mathbb{E}_{p(u)}\\left[\\mathcal{L}_1\\right] + \\mathbb{E}_{p(u)}\\left[KL\\left(p(f^*,\\mathrm{f} \\mid u) \\mid \\mid p(f^*,\\mathrm{f} \\mid u,y)\\right) \\right] -  \\mathbb{E}_{p(u)}\\left[\\log \\frac{p(u \\mid y)}{p(u)}\\right] \\\\\n",
    "&= \\mathbb{E}_{p(u)}\\left[\\mathcal{L}_1\\right] -\\mathbb{E}_{p(u)}\\left[\\mathbb{E}_{p(f^*,\\mathrm{f} \\mid u)}\\left[\\log \\frac{p(f^*,\\mathrm{f} \\mid y,u)}{p(f^*,\\mathrm{f} \\mid u)}\\right]\\right] - \\mathbb{E}_{p(u)}\\left[\\log \\frac{p(u \\mid y)}{p(u)}\\right] \\\\\n",
    "&= \\mathbb{E}_{p(u)}\\left[\\mathcal{L}_1\\right] -\\mathbb{E}_{p(u)}\\left[\\mathbb{E}_{p(f^*,\\mathrm{f} \\mid u)}\\left[\\log \\frac{p(f^*,\\mathrm{f} \\mid y,u)}{p(f^*,\\mathrm{f} \\mid u)}\\right] +\\log \\frac{p(u \\mid y)}{p(u)}\\right] \\\\\n",
    "&= \\mathbb{E}_{p(u)}\\left[\\mathcal{L}_1\\right] -\\mathbb{E}_{p(u)}\\left[\\mathbb{E}_{p(f^*,\\mathrm{f} \\mid u)}\\left[\\log \\frac{p(f^*,\\mathrm{f} \\mid y,u)}{p(f^*,\\mathrm{f} \\mid u)} +\\log \\frac{p(u \\mid y)}{p(u)}\\right]\\right] \\\\\n",
    "&= \\mathbb{E}_{p(u)}\\left[\\mathcal{L}_1\\right] -\\mathbb{E}_{p(u)}\\left[\\mathbb{E}_{p(f^*,\\mathrm{f} \\mid u)}\\left[\\log \\frac{p(f^*,\\mathrm{f} \\mid y,u)}{p(f^*,\\mathrm{f} \\mid u)} \\frac{p(u \\mid y)}{p(u)}\\right]\\right] \\\\\n",
    "&= \\mathbb{E}_{p(u)}\\left[\\mathcal{L}_1\\right] -\\mathbb{E}_{p(u)}\\left[\\mathbb{E}_{p(f^*,\\mathrm{f} \\mid u)}\\left[\\log \\frac{p(f^*,\\mathrm{f},u \\mid y)}{p(f^*,\\mathrm{f} \\mid u)\\cancel{p(u \\mid y)}} \\frac{\\cancel{p(u \\mid y)}}{p(u)}\\right]\\right] \\\\\n",
    "&= \\mathbb{E}_{p(u)}\\left[\\mathcal{L}_1\\right] -\\mathbb{E}_{p(u)}\\left[\\mathbb{E}_{p(f^*,\\mathrm{f} \\mid u)}\\left[\\log \\frac{p(f^*,\\mathrm{f},u \\mid y)}{p(f^*,\\mathrm{f}, u)}\\right]\\right] \\\\\n",
    "&= \\mathbb{E}_{p(u)}\\left[\\mathcal{L}_1\\right] -\\mathbb{E}_{p(f^*,\\mathrm{f}, u)}\\left[\\log \\frac{p(f^*,\\mathrm{f},u \\mid y)}{p(f^*,\\mathrm{f}, u)}\\right] \\\\\n",
    "\\end{aligned}\n",
    "$$"
   ]
  },
  {
   "cell_type": "markdown",
   "metadata": {},
   "source": [
    "Things left: compute $\\mathbb{E}_{p(u)}\\left[\\mathcal{L}_1\\right]$. Get back the idea of substituting in the first expresion $q(u)=\\mathcal{N}(m,S)$."
   ]
  },
  {
   "cell_type": "markdown",
   "metadata": {},
   "source": [
    "\n",
    "OLD STUFF:\n",
    "$$\n",
    "\\begin{aligned}\n",
    "\\mathcal{L}(q) &= \\mathbb{E}_{q(f)}\\left[\\log \\prod_{i=1}^N p(y_i\\mid \\mathrm{f}_i)\\right] + KL\\left[q(u)\\mid\\mid p(u)\\right] \\quad \\text{(step 6)} \\\\\n",
    "&= \\mathbb{E}_{q(\\mathrm{f})}\\left[\\sum_{i=1}^N \\log  p(y_i\\mid \\mathrm{f}_i)\\right] + KL\\left[q(u)\\mid\\mid p(u)\\right]\\\\)\n",
    "&= \\sum_{i=1}^N \\mathbb{E}_{q(\\mathrm{f})}\\left[\\log  p(y_i\\mid \\mathrm{f}_i)\\right] + KL\\left[q(u)\\mid\\mid p(u)\\right] \\\\\n",
    "&= \\sum_{i=1}^N \\mathbb{E}_{q(\\mathrm{f})}\\left[\\frac{-1}{2}\\log(2\\pi\\sigma^2) - \\frac{1}{2\\sigma^2}(y_i- f_i)^2\\right] + KL\\left[q(u)\\mid\\mid p(u)\\right] \\\\\n",
    "&= \\sum_{i=1}^N \\int \\left[\\frac{-1}{2}\\log(2\\pi\\sigma^2) - \\frac{1}{2\\sigma^2}(y_i- f_i)^2\\right]q(\\mathrm{f}_i)\\overbrace{\\int q(f_1,..,f_{i-1},f_{i+1},..,f_N \\mid \\mathrm{f}_i) d(\\mathrm{f}_1,..,\\mathrm{f}_{i-1},\\mathrm{f}_{i+1},..,\\mathrm{f}_N)}^{=1}d\\mathrm{f}_i + KL\\left[q(u)\\mid\\mid p(u)\\right] \\\\\n",
    "&= \\sum_{i=1}^N \\mathbb{E}_{q(\\mathrm{f}_i)}\\left[\\frac{-1}{2}\\log(2\\pi\\sigma^2) - \\frac{1}{2\\sigma^2}(y_i- \\mathrm{f}_i)^2\\right]  + KL\\left[q(u)\\mid\\mid p(u)\\right]\\\\\n",
    "&= \\frac{-N}{2}\\log(2\\pi\\sigma^2)+\\sum_{i=1}^N \\mathbb{E}_{q(\\mathrm{f}_i)}\\left[ - \\frac{1}{2\\sigma^2}(y_i- \\mathrm{f}_i)^2\\right]  + KL\\left[q(u)\\mid\\mid p(u)\\right] \\\\\n",
    "&= \\frac{-N}{2}\\log(2\\pi\\sigma^2)+\\sum_{i=1}^N \\mathbb{E}_{q(u)}\\left[\\mathbb{E}_{q(\\mathrm{f}_i \\mid u)}\\left[ - \\frac{1}{2\\sigma^2}(y_i- \\mathrm{f}_i)^2\\right]\\right]  + KL\\left[q(u)\\mid\\mid p(u)\\right] \\\\\n",
    "&= \\frac{-N}{2}\\log(2\\pi\\sigma^2)+\\sum_{i=1}^N \\mathbb{E}_{q(u)}\\left[\\mathbb{E}_{p(\\mathrm{f}_i \\mid u)}\\left[ - \\frac{1}{2\\sigma^2}(y_i- \\mathrm{f}_i)^2\\right]\\right]  + KL\\left[q(u)\\mid\\mid p(u)\\right] \\\\\n",
    "&= \\frac{-N}{2}\\log(2\\pi\\sigma^2)+\\sum_{i=1}^N \\mathbb{E}_{q(u)}\\left[\\mathbb{E}_{p(\\mathrm{f}_i \\mid u)}\\left[ - \\frac{1}{2\\sigma^2}(y_i^2+ \\mathrm{f}_i^2 -2y_i \\mathrm{f}_i)\\right]\\right]  + KL\\left[q(u)\\mid\\mid p(u)\\right] \\\\\n",
    "&= \\frac{-N}{2}\\log(2\\pi\\sigma^2)+\\sum_{i=1}^N \\mathbb{E}_{q(u)}\\left[- \\frac{1}{2\\sigma^2}\\left(y_i^2+ \\mathbb{E}_{p(\\mathrm{f}_i \\mid u)}[\\mathrm{f}_i^2] -2y_i \\mathbb{E}_{p(\\mathrm{f}_i \\mid u)}[\\mathrm{f}_i]\\right)\\right]  + KL\\left[q(u)\\mid\\mid p(u)\\right] \\quad \\text{Using }p(\\mathrm{f}_i \\mid u ) = \\mathcal{N}(K_{\\mathrm{f}_iu}K_{uu}^{-1}u, K_{\\mathrm{f}_i\\mathrm{f}_i} - Q_{\\mathrm{f}_i\\mathrm{f}_i}) \\\\\n",
    "&= \\frac{-N}{2}\\log(2\\pi\\sigma^2)+\\sum_{i=1}^N \\mathbb{E}_{q(u)}\\left[- \\frac{1}{2\\sigma^2}\\left(y_i^2+ K_{\\mathrm{f}_i\\mathrm{f}_i} - Q_{\\mathrm{f}_i\\mathrm{f}_i} + u^tK_{uu}^{-1}K_{u\\mathrm{f}_i}K_{\\mathrm{f}_iu}K_{uu}^{-1}u -2y_i K_{\\mathrm{f}_iu}K_{uu}^{-1}u\\right)\\right]  + KL\\left[q(u)\\mid\\mid p(u)\\right]   \\\\\n",
    "\\end{aligned}\n",
    "$$"
   ]
  }
 ],
 "metadata": {
  "kernelspec": {
   "display_name": "Python 3",
   "language": "python",
   "name": "python3"
  },
  "language_info": {
   "codemirror_mode": {
    "name": "ipython",
    "version": 3
   },
   "file_extension": ".py",
   "mimetype": "text/x-python",
   "name": "python",
   "nbconvert_exporter": "python",
   "pygments_lexer": "ipython3",
   "version": "3.6.4"
  },
  "widgets": {
   "state": {},
   "version": "1.1.2"
  }
 },
 "nbformat": 4,
 "nbformat_minor": 2
}
