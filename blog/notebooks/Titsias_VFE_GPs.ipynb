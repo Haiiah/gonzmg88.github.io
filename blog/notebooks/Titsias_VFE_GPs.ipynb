{
 "cells": [
  {
   "cell_type": "markdown",
   "metadata": {},
   "source": [
    "## VFE\n",
    "\n",
    "We seek a distribution over the noise free latent variables $f$ that approximates the true posterior: $q(f)\\approx p(f \\mid y)$. To do this we use the standard bound used in variational inference:\n",
    "\n",
    "$$\n",
    "\\begin{aligned}\n",
    "p(y ) &= \\overbrace{\\mathbb{E}_{q(f)}\\left[\\log \\frac{p(y,f)}{q(f)} \\right]}^{\\mathcal{L}(q)} +\\overbrace{\\mathbb{E}_{q(f)}\\left[\\log \\frac{p(f \\mid y)}{q(f)}\\right]}^{KL\\left[q \\mid\\mid p\\right]}\\\\\n",
    "&\\geq \\mathcal{L}(q)\n",
    "\\end{aligned}\n",
    "$$\n",
    "\n",
    "Thus, maximizing $\\mathcal{L}(q)$ is equivalent to minimizing the Kullback-Leiveck divergence between $q$ and the true posterior $p(f\\mid y)$. \n"
   ]
  },
  {
   "cell_type": "markdown",
   "metadata": {},
   "source": [
    "Let $u$ be a subset of $f$: $u \\subset f$: $f = \\{f_{\\ne u}, u\\}$. We can rewrite $\\mathcal{L}$ as:\n",
    "\n",
    "$$\n",
    "\\begin{aligned}\n",
    "\\mathcal{L}(q) &= \\mathbb{E}_{q(f)}\\left[\\log \\frac{p(y\\mid f)p(f)}{q(f)} \\right] \\\\\n",
    "&= \\mathbb{E}_{q(f)}\\left[\\log \\frac{p(y\\mid f)p(f_{\\ne u} \\mid u) p(u)}{q(f)} \\right] \\\\\n",
    "\\end{aligned}\n",
    "$$"
   ]
  },
  {
   "cell_type": "markdown",
   "metadata": {},
   "source": [
    "We can also rewrite the true posterior $p(f\\mid y)$ using the subset $u$ of $f$:\n",
    "$$\n",
    "p(f\\mid y) = p(f_{\\ne u} \\mid u,y)p(u \\mid y)\n",
    "$$"
   ]
  },
  {
   "cell_type": "markdown",
   "metadata": {},
   "source": [
    "The Titsias approximation to the posterior chooses $q$ as:\n",
    "$$\n",
    "q(f) = \\overbrace{p(f_{\\ne u} \\mid u)}^{\\mathcal{N}(f_{\\ne u} \\mid K_{f_{\\ne u}u}K_{uu}^{-1}u,\\: K_{f_{\\ne u}f_{\\ne u}} - Q_{f_{\\ne u}f_{\\ne u}} )}q(u)\n",
    "$$\n",
    "We see that **this approximation removes the dependency on the data ($y$) in the first term**. The second term $q(u)$ is let free. \n",
    "\n",
    "Substituting this $q$ in the bound $\\mathcal{L}$ leads to:"
   ]
  },
  {
   "cell_type": "markdown",
   "metadata": {},
   "source": [
    "$$\n",
    "\\begin{aligned}\n",
    "\\require{cancel}\n",
    "\\mathcal{L}(q) &= \\mathbb{E}_{q(f)}\\left[\\log \\frac{p(y\\mid f)\\cancel{p(f_{\\ne u} \\mid u)} p(u)}{\\cancel{p(f_{\\ne u} \\mid u)}q(u)}\\right] \\\\\n",
    "&= \\mathbb{E}_{q(f)}\\left[\\log p(y\\mid f)\\right] + \\mathbb{E}_{p(f_{\\ne u} \\mid u)q(u)}\\left[\\log \\frac{p(u)}{q(u)}\\right] \\\\\n",
    "&= \\mathbb{E}_{q(f)}\\left[\\log p(y\\mid f)\\right] + \\int \\int \\left[\\log \\frac{p(u)}{q(u)}\\right] p(f_{\\ne u} \\mid u)q(u) df_{\\ne u} du \\\\\n",
    "&= \\mathbb{E}_{q(f)}\\left[\\log p(y\\mid f)\\right] + \\int \\left[\\log \\frac{p(u)}{q(u)}\\right] q(u) \\overbrace{\\left(\\int p(f_{\\ne u} \\mid u) df_{\\ne u} \\right)}^{=1}  du \\quad \\text{Trick (1)}\\\\\n",
    "&= \\mathbb{E}_{q(f)}\\left[\\log p(y\\mid f)\\right] + KL\\left[q(u)\\mid\\mid p(u)\\right] \\\\\n",
    "&= \\mathbb{E}_{q(f)}\\left[\\log \\prod_{i=1}^N p(y_i\\mid f_i)\\right] + KL\\left[q(u)\\mid\\mid p(u)\\right] \\quad \\text{(step 6)} \\\\\n",
    "&= \\mathbb{E}_{q(f_1,..,f_N)}\\left[\\sum_{i=1}^N \\log  p(y_i\\mid f_i)\\right] + KL\\left[q(u)\\mid\\mid p(u)\\right]\\\\\n",
    "&= \\sum_{i=1}^N \\mathbb{E}_{q(f_1,..,f_N)}\\left[\\log  p(y_i\\mid f_i)\\right] + KL\\left[q(u)\\mid\\mid p(u)\\right] \\\\\n",
    "&= \\sum_{i=1}^N \\mathbb{E}_{q(f_1,..,f_N)}\\left[\\frac{-1}{2}\\log(2\\pi\\sigma^2) - \\frac{1}{2\\sigma^2}(y_i- f_i)^2\\right] + KL\\left[q(u)\\mid\\mid p(u)\\right] \\\\\n",
    "&= \\sum_{i=1}^N \\int \\left[\\frac{-1}{2}\\log(2\\pi\\sigma^2) - \\frac{1}{2\\sigma^2}(y_i- f_i)^2\\right]q(f_i)\\overbrace{\\int q(f_1,..,f_{i-1},f_{i+1},..,f_N \\mid f_i) d(f_1,..,f_{i-1},f_{i+1},..,f_N)}^{=1}df_i + KL\\left[q(u)\\mid\\mid p(u)\\right] \\\\\n",
    "&= \\sum_{i=1}^N \\mathbb{E}_{q(f_i)}\\left[\\frac{-1}{2}\\log(2\\pi\\sigma^2) - \\frac{1}{2\\sigma^2}(y_i- f_i)^2\\right]  + KL\\left[q(u)\\mid\\mid p(u)\\right]\\\\\n",
    "&= \\frac{-N}{2}\\log(2\\pi\\sigma^2)+\\sum_{i=1}^N \\mathbb{E}_{q(f_i)}\\left[ - \\frac{1}{2\\sigma^2}(y_i- f_i)^2\\right]  + KL\\left[q(u)\\mid\\mid p(u)\\right] \\\\\n",
    "&= \\frac{-N}{2}\\log(2\\pi\\sigma^2)+\\sum_{i=1}^N \\mathbb{E}_{q(u)}\\left[\\mathbb{E}_{q(f_i \\mid u)}\\left[ - \\frac{1}{2\\sigma^2}(y_i- f_i)^2\\right]\\right]  + KL\\left[q(u)\\mid\\mid p(u)\\right] \\\\\n",
    "&= \\frac{-N}{2}\\log(2\\pi\\sigma^2)+\\sum_{i=1}^N \\mathbb{E}_{q(u)}\\left[\\mathbb{E}_{p(f_i \\mid u)}\\left[ - \\frac{1}{2\\sigma^2}(y_i- f_i)^2\\right]\\right]  + KL\\left[q(u)\\mid\\mid p(u)\\right] \\\\\n",
    "&= \\frac{-N}{2}\\log(2\\pi\\sigma^2)+\\sum_{i=1}^N \\mathbb{E}_{q(u)}\\left[\\mathbb{E}_{p(f_i \\mid u)}\\left[ - \\frac{1}{2\\sigma^2}(y_i^2+ f_i^2 -2y_i f_i)\\right]\\right]  + KL\\left[q(u)\\mid\\mid p(u)\\right] \\\\\n",
    "&= \\frac{-N}{2}\\log(2\\pi\\sigma^2)+\\sum_{i=1}^N \\mathbb{E}_{q(u)}\\left[- \\frac{1}{2\\sigma^2}\\left(y_i^2+ \\mathbb{E}_{p(f_i \\mid u)}[f_i^2] -2y_i \\mathbb{E}_{p(f_i \\mid u)}[f_i]\\right)\\right]  + KL\\left[q(u)\\mid\\mid p(u)\\right] \\quad \\text{Using }p(f_i \\mid u ) = \\mathcal{N}(K_{f_iu}K_{uu}^{-1}u, K_{f_if_i} - Q_{f_if_i}) \\\\\n",
    "&= \\frac{-N}{2}\\log(2\\pi\\sigma^2)+\\sum_{i=1}^N \\mathbb{E}_{q(u)}\\left[- \\frac{1}{2\\sigma^2}\\left(y_i^2+ K_{f_if_i} - Q_{f_if_i} + K_{f_iu}K_{uu}^{-1}uu^tK_{uu}^{-1}K_{uf_i} -2y_i K_{f_iu}K_{uu}^{-1}u\\right)\\right]  + KL\\left[q(u)\\mid\\mid p(u)\\right]   \\\\\n",
    "\\end{aligned}\n",
    "$$"
   ]
  },
  {
   "cell_type": "markdown",
   "metadata": {},
   "source": [
    "If we assume $q(u) = \\mathcal{N}(u \\mid m,S)$"
   ]
  },
  {
   "cell_type": "markdown",
   "metadata": {},
   "source": [
    "Alternative derivation from step (6):"
   ]
  },
  {
   "cell_type": "markdown",
   "metadata": {},
   "source": [
    "$$\n",
    "\\begin{aligned}\n",
    "\\mathcal{L}(q)&= \\mathbb{E}_{q(f)}\\left[\\log \\prod_{i=1}^N p(y_i\\mid f_i)\\right] + KL\\left[q(u)\\mid\\mid p(u)\\right] \\\\\n",
    "&= \\mathbb{E}_{p(f_1,..,f_N\\mid u)q(u)}\\left[\\log p(y \\mid f)\\right] + KL\\left[q(u)\\mid\\mid p(u)\\right] \\\\\n",
    "&= \\mathbb{E}_{q(u)}\\left[\\mathbb{E}_{p(f \\mid u)}\\left[\\log p(y \\mid f)\\right]\\right] + KL\\left[q(u)\\mid\\mid p(u)\\right] \\\\\n",
    "&\\underbrace{\\leq}_{\\text{Jensen's}} \\mathbb{E}_{q(u)}\\left[\\log \\mathbb{E}_{p(f\\mid u)}\\left[ p(y \\mid f)\\right]\\right] + KL\\left[q(u)\\mid\\mid p(u)\\right] \\\\\n",
    "\\end{aligned}\n",
    "$$"
   ]
  },
  {
   "cell_type": "markdown",
   "metadata": {},
   "source": [
    "We know that $p(f \\mid u)=\\mathcal{N}(K_{fu}K_{uu}^{-1}u,K_{ff}-Q_{ff})$ and $p(y\\mid f)=\\mathcal{N}(0,\\sigma^2 I)$. So:\n",
    "\n",
    "$$\n",
    "\\mathbb{E}_{p(f \\mid u)}\\left[ p(y \\mid f)\\right]\n",
    "$$"
   ]
  }
 ],
 "metadata": {
  "kernelspec": {
   "display_name": "Python 3",
   "language": "python",
   "name": "python3"
  },
  "language_info": {
   "codemirror_mode": {
    "name": "ipython",
    "version": 3
   },
   "file_extension": ".py",
   "mimetype": "text/x-python",
   "name": "python",
   "nbconvert_exporter": "python",
   "pygments_lexer": "ipython3",
   "version": "3.6.1"
  }
 },
 "nbformat": 4,
 "nbformat_minor": 2
}
