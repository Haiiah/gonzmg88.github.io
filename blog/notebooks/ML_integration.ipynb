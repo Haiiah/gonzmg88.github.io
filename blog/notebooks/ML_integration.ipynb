{
 "cells": [
  {
   "cell_type": "markdown",
   "metadata": {},
   "source": [
    "$$\n",
    "\\begin{aligned}\n",
    "P(y \\mid X) &= \\int \\mathcal{N}(y \\mid X \\omega, \\sigma^2I)\\mathcal{N}(\\omega \\mid 0, A)d\\omega \\\\\n",
    "&= \\mathcal{N}(y \\mid 0, \\sigma^2I + XAX^t)\n",
    "\\end{aligned}\n",
    "$$"
   ]
  },
  {
   "cell_type": "markdown",
   "metadata": {},
   "source": [
    "$$\n",
    "\\begin{aligned}\n",
    "P(y \\mid X) &= \\int \\mathcal{N}(y \\mid X \\omega, \\sigma^2I)\\mathcal{N}(\\omega \\mid 0, A)d\\omega \\\\\n",
    " &= \\int \\tfrac{1}{(2\\pi)^{N/2}\\sigma^N}\\exp\\left(\\tfrac{-1}{2\\sigma^2}\\|y - X\\omega\\|^2 \\right)\\tfrac{1}{(2\\pi)^{K/2}\\sqrt{|A|}}\\exp\\left(\\tfrac{-1}{2}\\omega^t A^{-1} \\omega \\right)d\\omega \\\\\n",
    " &= \\tfrac{1}{(2\\pi)^{N/2}\\sigma^N}\\tfrac{1}{(2\\pi)^{K/2}\\sqrt{|A|}} \\int \\exp\\left(\\tfrac{-1}{2\\sigma^2}\\|y - X\\omega\\|^2 +\\tfrac{-1}{2}\\omega^t A^{-1} \\omega \\right)d\\omega \\\\\n",
    " &= \\tfrac{1}{(2\\pi)^{N/2}\\sigma^N}\\tfrac{1}{(2\\pi)^{K/2}\\sqrt{|A|}} \\int \\exp\\left(\\tfrac{-1}{2\\sigma^2}\\left(y^ty +\\omega^tX^tX\\omega - 2\\omega^tX^ty \\right) +\\tfrac{-1}{2}\\omega^t A^{-1} \\omega \\right)d\\omega \\\\\n",
    " &= \\tfrac{1}{(2\\pi)^{N/2}\\sigma^N}\\tfrac{1}{(2\\pi)^{K/2}\\sqrt{|A|}} \\int \\exp\\left(\\tfrac{-1}{2\\sigma^2}\\left(y^ty +\\omega^tX^tX\\omega - 2\\omega^tX^ty +\\color{green}{\\sigma^2}\\omega^t A^{-1} \\omega \\right)\\right)d\\omega \\\\\n",
    "  &= \\tfrac{1}{(2\\pi)^{N/2}\\sigma^N}\\tfrac{1}{(2\\pi)^{K/2}\\sqrt{|A|}} \\int \\exp\\left(\\tfrac{-1}{2\\sigma^2}\\left(y^ty +\\omega^t\\left(X^tX+\\sigma^2A^{-1}\\right)\\omega - 2\\omega^tX^ty \\right)\\right)d\\omega \\\\\n",
    "    &= \\tfrac{1}{(2\\pi)^{N/2}\\sigma^N}\\tfrac{1}{(2\\pi)^{K/2}\\sqrt{|A|}}\\exp\\left(\\tfrac{-y^ty}{2\\sigma^2}\\right) \\int \\exp\\left(\\tfrac{-1}{2\\sigma^2}\\left(\\omega^t\\left(X^tX+\\sigma^2A^{-1}\\right)\\omega - 2\\omega^tX^ty \\right)\\right)d\\omega \\quad \\text{(1)}\n",
    "\\end{aligned}\n",
    "$$"
   ]
  },
  {
   "cell_type": "markdown",
   "metadata": {},
   "source": [
    "Now if we manage to write all the $\\omega$ dependencies of the integral in a quadratic form we can use: \n",
    "\n",
    "$$\n",
    "\\int \\exp\\left( \\tfrac{-1}{2 \\sigma^2} (\\omega-\\omega^*)^t(X^tX+\\sigma^2 A^{-1})(\\omega-\\omega^*)\\right)d\\omega = \\tfrac{(2\\pi)^{K/2}\\sigma^N}{\\sqrt{|X^tX+\\sigma^2 A^{-1}|}}\n",
    "$$"
   ]
  },
  {
   "cell_type": "markdown",
   "metadata": {},
   "source": [
    "Hence if we expand this term we get:\n",
    "\n",
    "$$\n",
    "\\begin{aligned}\n",
    "\\tfrac{(2\\pi)^{K/2}\\sigma^N}{\\sqrt{|X^tX+\\sigma^2 A^{-1}|}} &= \\int \\exp\\left(\\tfrac{-1}{2 \\sigma^2}(\\omega-\\omega^*)^t(X^tX+\\sigma^2 A^{-1})(\\omega-\\omega^*)\\right)d\\omega \\\\\n",
    "&= \\int \\exp\\left(\\tfrac{-1}{2 \\sigma^2}\\left(\\omega(X^tX+\\sigma^2 A^{-1})\\omega + \\omega^{*t}(X^tX+\\sigma^2 A^{-1})\\omega^* -2\\omega^{t}(X^tX+\\sigma^2 A^{-1})\\omega^{*} \\right)\\right)d\\omega \\\\\n",
    "&= \\exp\\left(\\tfrac{-\\omega^{*t}(X^tX+\\sigma^2 A^{-1})\\omega^*}{2 \\sigma^2}\\right)\\int \\exp\\left(\\tfrac{-1}{2 \\sigma^2}\\left(\\omega(X^tX+\\sigma^2 A^{-1})\\omega  -2\\omega^{t}(X^tX+\\sigma^2 A^{-1})\\omega^{*} \\right)\\right)d\\omega \\quad \\text{(2)}\n",
    "\\end{aligned}\n",
    "$$\n"
   ]
  },
  {
   "cell_type": "markdown",
   "metadata": {},
   "source": [
    "Therefore if we want that both expressions ressemble we must set $\\omega^*$ to:\n",
    "$$\n",
    "\\begin{aligned}\n",
    "\\require{cancel}\n",
    "\\cancel{-2}(X^tX +\\sigma^2 A^{-1})\\omega^* &= \\cancel{-2}X^ty \\\\\n",
    "\\omega^* &= (X^tX +\\sigma^2 A^{-1})^{-1}X^ty\n",
    "\\end{aligned}\n",
    "$$\n",
    "\n",
    "Which is the mean of the posterior and the MAP estimator!\n",
    "\n",
    "If we plug this $\\omega^*$ in the equation of above (2) we get:"
   ]
  },
  {
   "cell_type": "markdown",
   "metadata": {},
   "source": [
    "$$\n",
    "\\begin{aligned}\n",
    "\\tfrac{(2\\pi)^{K/2}\\sigma^N}{\\sqrt{|X^tX+\\sigma^2 A^{-1}|}} &= \\exp\\left(\\frac{-y^tX(X^tX + \\sigma^2 A^{-1})^{-1}X^ty}{2 \\sigma^2}\\right) \\int \\exp\\left(\\tfrac{-1}{2\\sigma^2}\\left(\\omega(X^tX+\\sigma^2 A^{-1})\\omega  -2\\omega^{t}X^ty \\right)\\right)d\\omega \\\\\n",
    "\\tfrac{(2\\pi)^{K/2}\\sigma^N}{\\sqrt{|X^tX+\\sigma^2 A^{-1}|}} \\exp\\left(\\frac{y^tX(X^tX + \\sigma^2 A^{-1})^{-1}X^ty}{2 \\sigma^2}\\right) &= \\int \\exp\\left(\\tfrac{-1}{2\\sigma^2}\\left(\\omega(X^tX+\\sigma^2 A^{-1})\\omega  -2\\omega^{t}X^ty \\right)\\right)d\\omega \\quad \\text{(3)}\n",
    "\\end{aligned}\n",
    "$$\n"
   ]
  },
  {
   "cell_type": "markdown",
   "metadata": {},
   "source": [
    "So now we can plug the right hand side of (3) into (1) to get:\n",
    "$$\n",
    "\\begin{aligned}\n",
    "P(y \\mid X) &=  \\tfrac{1}{(2\\pi)^{N/2}\\cancel{\\sigma^N}}\\tfrac{1}{\\cancel{(2\\pi)^{K/2}}\\sqrt{|A|}}\\exp\\left(\\tfrac{-y^ty}{2\\sigma^2}\\right) \\tfrac{\\cancel{(2\\pi)^{K/2}} \\cancel{\\sigma^N}}{\\sqrt{|X^tX+\\sigma^2 A^{-1}|}} \\exp\\left(\\frac{y^tX(X^tX + \\sigma^2 A^{-1})^{-1}X^ty}{2 \\sigma^2}\\right) \\\\\n",
    " &=  \\tfrac{1}{(2\\pi)^{N/2}\\sqrt{|A||X^tX+\\sigma^2 A^{-1}|}} \\exp\\left(\\tfrac{-1}{2\\sigma^2}\\left(y^ty -y^tX(X^tX + \\sigma^2 A^{-1})^{-1}X^ty\\right)\\right) \\\\\n",
    "  &=  \\tfrac{1}{(2\\pi)^{N/2}\\sqrt{|A||X^tX+\\sigma^2 A^{-1}|}} \\exp\\left(\\tfrac{-1}{2\\sigma^2}y^t\\left(I -X(X^tX + \\sigma^2 A^{-1})^{-1}X^t\\right)y\\right) \\\\\n",
    "  &=^{\\color{red}{\\text{??}}} \\mathcal{N}\\left(y \\mid 0, \\sigma^2\\left(I -X(X^tX + \\sigma^2 A^{-1})^{-1}X^t\\right)^{-1}\\right)\n",
    "\\end{aligned}\n",
    "$$"
   ]
  },
  {
   "cell_type": "markdown",
   "metadata": {},
   "source": [
    "The matrix inversion lemma applied to the expression in the exponential leads to:\n",
    "$$\n",
    "\\begin{aligned}\n",
    "(\\sigma^2 I + XAX^t)^{-1} &= \\tfrac{1}{\\sigma^2}\\left(I-X\\left(A^{-1} +X^tX\\sigma^2\\right)^{-1}X^t \\sigma^{-2}\\right)\\\\\n",
    "&= \\tfrac{1}{\\sigma^2}\\left(I-X\\left(A^{-1}\\sigma^2 +X^tX\\right)^{-1}X^t \\right)\\\\\n",
    "\\end{aligned}\n",
    "$$\n",
    "\n",
    "Which completes the proof:\n",
    "$$\n",
    "P(y \\mid X ) = \\mathcal{N}(y \\mid 0, \\sigma^2I + XAX^t)\n",
    "$$"
   ]
  }
 ],
 "metadata": {
  "kernelspec": {
   "display_name": "Python 3",
   "language": "python",
   "name": "python3"
  },
  "language_info": {
   "codemirror_mode": {
    "name": "ipython",
    "version": 3
   },
   "file_extension": ".py",
   "mimetype": "text/x-python",
   "name": "python",
   "nbconvert_exporter": "python",
   "pygments_lexer": "ipython3",
   "version": "3.6.4"
  },
  "widgets": {
   "state": {},
   "version": "1.1.2"
  }
 },
 "nbformat": 4,
 "nbformat_minor": 2
}
